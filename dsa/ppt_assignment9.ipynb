{
 "cells": [
  {
   "cell_type": "markdown",
   "id": "beef5a8b",
   "metadata": {},
   "source": [
    "<aside>\n",
    "💡 **Question 1**\n",
    "\n",
    "Given an integer `n`, return *`true` if it is a power of two. Otherwise, return `false`*.\n",
    "\n",
    "An integer `n` is a power of two, if there exists an integer `x` such that `n == 2x`.\n",
    "\n",
    "**Example 1:**\n",
    "Input: n = 1 \n",
    "\n",
    "Output: true\n",
    "\n",
    "**Example 2:**\n",
    "Input: n = 16 \n",
    "\n",
    "Output: true\n",
    "\n",
    "**Example 3:**\n",
    "Input: n = 3 \n",
    "\n",
    "Output: false\n",
    "\n",
    "</aside>"
   ]
  },
  {
   "cell_type": "code",
   "execution_count": 1,
   "id": "cadf5d84",
   "metadata": {},
   "outputs": [],
   "source": [
    "def is_power_of_two(n):\n",
    "    # If n is zero or negative, it is not a power of two\n",
    "    if n <= 0:\n",
    "        return False\n",
    "    # If n is one, it is a power of two\n",
    "    if n == 1:\n",
    "        return True\n",
    "    # If n is even, divide it by two and check if the result is a power of two recursively\n",
    "    if n % 2 == 0:\n",
    "        return is_power_of_two(n // 2)\n",
    "    # If n is odd, it is not a power of two\n",
    "    else:\n",
    "        return False\n"
   ]
  },
  {
   "cell_type": "code",
   "execution_count": 2,
   "id": "3a3ee691",
   "metadata": {},
   "outputs": [
    {
     "name": "stdout",
     "output_type": "stream",
     "text": [
      "True\n"
     ]
    }
   ],
   "source": [
    "print(is_power_of_two(16))"
   ]
  },
  {
   "cell_type": "markdown",
   "id": "861faa40",
   "metadata": {},
   "source": [
    "<aside>\n",
    "💡 **Question 2**\n",
    "\n",
    "Given a number n, find the sum of the first natural numbers.\n",
    "\n",
    "**Example 1:**\n",
    "\n",
    "Input: n = 3 \n",
    "\n",
    "Output: 6\n",
    "\n",
    "**Example 2:**\n",
    "\n",
    "Input  : 5 \n",
    "\n",
    "Output : 15\n",
    "\n",
    "</aside>"
   ]
  },
  {
   "cell_type": "code",
   "execution_count": 4,
   "id": "03a9f888",
   "metadata": {},
   "outputs": [
    {
     "name": "stdout",
     "output_type": "stream",
     "text": [
      "6\n"
     ]
    }
   ],
   "source": [
    "def sum_of_natural_numbers(n):\n",
    "    # If n is zero or negative, the sum is zero\n",
    "    if n <= 0:\n",
    "        return 0\n",
    "    # If n is one, the sum is one\n",
    "    if n == 1:\n",
    "        return 1\n",
    "    # Otherwise, use the formula n * (n + 1) / 2 to calculate the sum\n",
    "    return n * (n + 1) // 2\n",
    "print(sum_of_natural_numbers(3))"
   ]
  },
  {
   "cell_type": "markdown",
   "id": "028a499f",
   "metadata": {},
   "source": [
    "<aside>\n",
    "💡 **Question 3**\n",
    "\n",
    "****Given a positive integer, N. Find the factorial of N. \n",
    "\n",
    "**Example 1:**\n",
    "\n",
    "Input: N = 5 \n",
    "\n",
    "Output: 120\n",
    "\n",
    "**Example 2:**\n",
    "\n",
    "Input: N = 4\n",
    "\n",
    "Output: 24\n",
    "\n",
    "</aside>"
   ]
  },
  {
   "cell_type": "code",
   "execution_count": 5,
   "id": "8bc86601",
   "metadata": {},
   "outputs": [
    {
     "name": "stdout",
     "output_type": "stream",
     "text": [
      "120\n"
     ]
    }
   ],
   "source": [
    "def factorial(N):\n",
    "    if N == 0 or N == 1:\n",
    "        return 1\n",
    "    else:\n",
    "        result = 1\n",
    "        for i in range(2, N + 1):\n",
    "            result *= i\n",
    "        return result\n",
    "\n",
    "# Example usage\n",
    "N = 5\n",
    "factorial_result = factorial(N)\n",
    "print(factorial_result)\n"
   ]
  },
  {
   "cell_type": "markdown",
   "id": "39e7bcf6",
   "metadata": {},
   "source": [
    "<aside>\n",
    "💡 **Question 4**\n",
    "\n",
    "Given a number N and a power P, the task is to find the exponent of this number raised to the given power, i.e. N^P.\n",
    "\n",
    "**Example 1 :** \n",
    "\n",
    "Input: N = 5, P = 2\n",
    "\n",
    "Output: 25\n",
    "\n",
    "**Example 2 :**\n",
    "Input: N = 2, P = 5\n",
    "\n",
    "Output: 32\n",
    "\n",
    "</aside>"
   ]
  },
  {
   "cell_type": "code",
   "execution_count": 6,
   "id": "7ca25a39",
   "metadata": {},
   "outputs": [
    {
     "name": "stdout",
     "output_type": "stream",
     "text": [
      "25\n"
     ]
    }
   ],
   "source": [
    "def power_of_number(N, P):\n",
    "    result = N ** P\n",
    "    return result\n",
    "\n",
    "# Example usage\n",
    "N = 5\n",
    "P = 2\n",
    "power_result = power_of_number(N, P)\n",
    "print(power_result)\n"
   ]
  },
  {
   "cell_type": "markdown",
   "id": "c3fdba9c",
   "metadata": {},
   "source": [
    "<aside>\n",
    "💡 **Question 5**\n",
    "\n",
    "Given an array of integers **arr**, the task is to find maximum element of that array using recursion.\n",
    "\n",
    "**Example 1:**\n",
    "\n",
    "Input: arr = {1, 4, 3, -5, -4, 8, 6};\n",
    "Output: 8\n",
    "\n",
    "**Example 2:**\n",
    "\n",
    "Input: arr = {1, 4, 45, 6, 10, -8};\n",
    "Output: 45\n",
    "\n",
    "</aside>"
   ]
  },
  {
   "cell_type": "code",
   "execution_count": 7,
   "id": "1f749625",
   "metadata": {},
   "outputs": [
    {
     "name": "stdout",
     "output_type": "stream",
     "text": [
      "8\n"
     ]
    }
   ],
   "source": [
    "def find_maximum(arr, n):\n",
    "    if n == 1:\n",
    "        return arr[0]\n",
    "    else:\n",
    "        max_num = find_maximum(arr, n-1)\n",
    "        return max(max_num, arr[n-1])\n",
    "\n",
    "# Example usage\n",
    "arr = [1, 4, 3, -5, -4, 8, 6]\n",
    "n = len(arr)\n",
    "maximum = find_maximum(arr, n)\n",
    "print(maximum)\n"
   ]
  },
  {
   "cell_type": "markdown",
   "id": "aa5d37f7",
   "metadata": {},
   "source": [
    "<aside>\n",
    "💡 **Question 6**\n",
    "\n",
    "Given first term (a), common difference (d) and a integer N of the Arithmetic Progression series, the task is to find Nth term of the series.\n",
    "\n",
    "**Example 1:**\n",
    "\n",
    "Input : a = 2 d = 1 N = 5\n",
    "Output : 6\n",
    "The 5th term of the series is : 6\n",
    "\n",
    "**Example 2:**\n",
    "\n",
    "Input : a = 5 d = 2 N = 10\n",
    "Output : 23\n",
    "The 10th term of the series is : 23\n",
    "\n",
    "</aside>"
   ]
  },
  {
   "cell_type": "code",
   "execution_count": 8,
   "id": "a4d80111",
   "metadata": {},
   "outputs": [
    {
     "name": "stdout",
     "output_type": "stream",
     "text": [
      "6\n"
     ]
    }
   ],
   "source": [
    "def nth_term_of_ap(a, d, N):\n",
    "    nth_term = a + (N - 1) * d\n",
    "    return nth_term\n",
    "\n",
    "# Example usage\n",
    "a = 2\n",
    "d = 1\n",
    "N = 5\n",
    "nth_term = nth_term_of_ap(a, d, N)\n",
    "print(nth_term)\n"
   ]
  },
  {
   "cell_type": "markdown",
   "id": "3138306e",
   "metadata": {},
   "source": [
    "<aside>\n",
    "💡 **Question 7**\n",
    "\n",
    "Given a string S, the task is to write a program to print all permutations of a given string.\n",
    "\n",
    "**Example 1:**\n",
    "\n",
    "***Input:***\n",
    "\n",
    "*S = “ABC”*\n",
    "\n",
    "***Output:***\n",
    "\n",
    "*“ABC”, “ACB”, “BAC”, “BCA”, “CBA”, “CAB”*\n",
    "\n",
    "**Example 2:**\n",
    "\n",
    "***Input:***\n",
    "\n",
    "*S = “XY”*\n",
    "\n",
    "***Output:***\n",
    "\n",
    "*“XY”, “YX”*\n",
    "\n",
    "</aside>"
   ]
  },
  {
   "cell_type": "code",
   "execution_count": 9,
   "id": "50ec6e96",
   "metadata": {},
   "outputs": [
    {
     "name": "stdout",
     "output_type": "stream",
     "text": [
      "ABC\n",
      "ACB\n",
      "BAC\n",
      "BCA\n",
      "CBA\n",
      "CAB\n"
     ]
    }
   ],
   "source": [
    "def permutations(string, left, right):\n",
    "    if left == right:\n",
    "        print(''.join(string))\n",
    "    else:\n",
    "        for i in range(left, right + 1):\n",
    "            string[left], string[i] = string[i], string[left]  # Swap characters\n",
    "            permutations(string, left + 1, right)  # Recursively permute remaining characters\n",
    "            string[left], string[i] = string[i], string[left]  # Backtrack to restore the original order\n",
    "\n",
    "# Example usage\n",
    "S = \"ABC\"\n",
    "n = len(S)\n",
    "string_list = list(S)  # Convert string to a list of characters\n",
    "permutations(string_list, 0, n - 1)\n"
   ]
  },
  {
   "cell_type": "markdown",
   "id": "2dfc9dcf",
   "metadata": {},
   "source": [
    "<aside>\n",
    "💡 **Question 8**\n",
    "\n",
    "Given an array, find a product of all array elements.\n",
    "\n",
    "**Example 1:**\n",
    "\n",
    "Input  : arr[] = {1, 2, 3, 4, 5}\n",
    "Output : 120\n",
    "**Example 2:**\n",
    "\n",
    "Input  : arr[] = {1, 6, 3}\n",
    "Output : 18\n",
    "\n",
    "</aside>"
   ]
  },
  {
   "cell_type": "code",
   "execution_count": 10,
   "id": "6b971419",
   "metadata": {},
   "outputs": [
    {
     "name": "stdout",
     "output_type": "stream",
     "text": [
      "120\n"
     ]
    }
   ],
   "source": [
    "def product_of_array(arr):\n",
    "    product = 1\n",
    "    for num in arr:\n",
    "        product *= num\n",
    "    return product\n",
    "\n",
    "# Example usage\n",
    "arr = [1, 2, 3, 4, 5]\n",
    "product = product_of_array(arr)\n",
    "print(product)\n"
   ]
  },
  {
   "cell_type": "code",
   "execution_count": null,
   "id": "249457f0",
   "metadata": {},
   "outputs": [],
   "source": []
  }
 ],
 "metadata": {
  "kernelspec": {
   "display_name": "Python 3 (ipykernel)",
   "language": "python",
   "name": "python3"
  },
  "language_info": {
   "codemirror_mode": {
    "name": "ipython",
    "version": 3
   },
   "file_extension": ".py",
   "mimetype": "text/x-python",
   "name": "python",
   "nbconvert_exporter": "python",
   "pygments_lexer": "ipython3",
   "version": "3.10.9"
  }
 },
 "nbformat": 4,
 "nbformat_minor": 5
}
