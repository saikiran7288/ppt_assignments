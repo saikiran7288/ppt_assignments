{
 "cells": [
  {
   "cell_type": "code",
   "execution_count": null,
   "id": "34298429",
   "metadata": {},
   "outputs": [],
   "source": [
    "<aside>\n",
    "💡 **Question 1**\n",
    "\n",
    "Given two strings s and t, *determine if they are isomorphic*.\n",
    "\n",
    "Two strings s and t are isomorphic if the characters in s can be replaced to get t.\n",
    "\n",
    "All occurrences of a character must be replaced with another character while preserving the order of characters. No two characters may map to the same character, but a character may map to itself.\n",
    "\n",
    "**Example 1:**\n",
    "\n",
    "**Input:** s = \"egg\", t = \"add\"\n",
    "\n",
    "**Output:** true\n",
    "\n",
    "</aside>"
   ]
  },
  {
   "cell_type": "code",
   "execution_count": 8,
   "id": "c80427c6",
   "metadata": {},
   "outputs": [
    {
     "name": "stdout",
     "output_type": "stream",
     "text": [
      "{}\n",
      "{'e': 'a'}\n",
      "{'e': 'a', 'g': 'd'}\n",
      "True\n"
     ]
    }
   ],
   "source": [
    "def isIsomorphic(s,t):\n",
    "    if len(s)!= len(t):\n",
    "        return False\n",
    "    s_to_t ={}\n",
    "    t_to_s ={}\n",
    "    \n",
    "    for isom in range(len(s)):\n",
    "        char_s =s[isom]\n",
    "        char_t =t[isom]\n",
    "    \n",
    "        \n",
    "        if char_s in s_to_t:\n",
    "            if s_to_t[char_s] !=char_t:\n",
    "                return False\n",
    "        else:\n",
    "            if char_t in t_to_s:\n",
    "                return False\n",
    "            s_to_t[char_s] = char_t\n",
    "            t_to_s[char_t] = char_s\n",
    "    return True\n",
    "            \n",
    "s = \"egg\"\n",
    "t = \"add\"\n",
    "print(isIsomorphic(s, t))  # Output: True\n",
    "          \n",
    "    "
   ]
  },
  {
   "cell_type": "markdown",
   "id": "88a8bc85",
   "metadata": {},
   "source": [
    "<aside>\n",
    "💡 **Question 2**\n",
    "\n",
    "Given a string num which represents an integer, return true *if* num *is a **strobogrammatic number***.\n",
    "\n",
    "A **strobogrammatic number** is a number that looks the same when rotated 180 degrees (looked at upside down).\n",
    "\n",
    "**Example 1:**\n",
    "\n",
    "**Input:** num = \"69\"\n",
    "\n",
    "**Output:**\n",
    "\n",
    "true\n",
    "\n",
    "</aside>"
   ]
  },
  {
   "cell_type": "code",
   "execution_count": 7,
   "id": "92f247a8",
   "metadata": {},
   "outputs": [
    {
     "name": "stdout",
     "output_type": "stream",
     "text": [
      "True\n"
     ]
    }
   ],
   "source": [
    "def stbg_number(st):\n",
    "    dt ={\"0\":0,\"1\":1,\"6\":9,\"8\":8,\"9\":6}\n",
    "    left,right =0,len(st)-1\n",
    "    while left <=right:\n",
    "        if st[left]not in dt or st[right] not in dt:\n",
    "            return False\n",
    "        left+=1\n",
    "        right -=1\n",
    "    return True\n",
    "    \n",
    "d = \"96\"\n",
    "print(stbg_number(d))\n",
    "            \n",
    "    "
   ]
  },
  {
   "cell_type": "markdown",
   "id": "719794a6",
   "metadata": {},
   "source": [
    "<aside>\n",
    "💡 **Question 3**\n",
    "\n",
    "Given two non-negative integers, num1 and num2 represented as string, return *the sum of* num1 *and* num2 *as a string*.\n",
    "\n",
    "You must solve the problem without using any built-in library for handling large integers (such as BigInteger). You must also not convert the inputs to integers directly.\n",
    "\n",
    "**Example 1:**\n",
    "\n",
    "**Input:** num1 = \"11\", num2 = \"123\"\n",
    "\n",
    "**Output:**\n",
    "\n",
    "\"134\"\n",
    "\n",
    "</aside>"
   ]
  },
  {
   "cell_type": "code",
   "execution_count": 18,
   "id": "363f11ab",
   "metadata": {},
   "outputs": [
    {
     "name": "stdout",
     "output_type": "stream",
     "text": [
      "134 \n"
     ]
    }
   ],
   "source": [
    "def Add_strings(num1,num2):\n",
    "    nm1 ,nm2 =len(num1)-1,len(num2)-1\n",
    "    carry =0\n",
    "    result =\" \"\n",
    "    \n",
    "    while nm1>=0 or nm2 >= 0 or carry!=0:\n",
    "        x = int(num1[nm1] if nm1 >=0 else 0)\n",
    "        y = int(num2[nm2]if nm2 >= 0 else 0)\n",
    "        \n",
    "        total =x+y+carry\n",
    "        carry =total//10\n",
    "        result =str(total %10)+result\n",
    "        nm1 -= 1\n",
    "        nm2 -= 1\n",
    "        \n",
    "    return result\n",
    "\n",
    "\n",
    "num1 = \"11\"\n",
    "num2 = \"123\"\n",
    "print(Add_strings(num1, num2))\n",
    "\n",
    "\n",
    "    "
   ]
  },
  {
   "cell_type": "markdown",
   "id": "1722ab4f",
   "metadata": {},
   "source": [
    "<aside>\n",
    "💡 **Question 4**\n",
    "\n",
    "Given a string s, reverse the order of characters in each word within a sentence while still preserving whitespace and initial word order.\n",
    "\n",
    "**Example 1:**\n",
    "\n",
    "**Input:** s = \"Let's take LeetCode contest\"\n",
    "\n",
    "**Output:** \"s'teL ekat edoCteeL tsetnoc\"\n",
    "\n",
    "</aside>"
   ]
  },
  {
   "cell_type": "code",
   "execution_count": 35,
   "id": "17323af6",
   "metadata": {},
   "outputs": [
    {
     "name": "stdout",
     "output_type": "stream",
     "text": [
      "s'teL ekat edoCteeL tsetnoc\n"
     ]
    }
   ],
   "source": [
    "def string_reverse(s):\n",
    "    words =s.split()\n",
    "    reversed_words =[word[::-1]for word in words]\n",
    "    return \" \".join(reversed_words)\n",
    "    \n",
    "    \n",
    "word = \"Let's take LeetCode contest \"\n",
    "print( string_reverse(tr))"
   ]
  },
  {
   "cell_type": "markdown",
   "id": "909581ca",
   "metadata": {},
   "source": [
    "<aside>\n",
    "💡 **Question 5**\n",
    "\n",
    "Given a string s and an integer k, reverse the first k characters for every 2k characters counting from the start of the string.\n",
    "\n",
    "If there are fewer than k characters left, reverse all of them. If there are less than 2k but greater than or equal to k characters, then reverse the first k characters and leave the other as original.\n",
    "\n",
    "**Example 1:**\n",
    "\n",
    "**Input:** s = \"abcdefg\", k = 2\n",
    "\n",
    "**Output:**\n",
    "\n",
    "\"bacdfeg\"\n",
    "\n",
    "</aside>"
   ]
  },
  {
   "cell_type": "code",
   "execution_count": 3,
   "id": "768693d8",
   "metadata": {},
   "outputs": [
    {
     "name": "stdout",
     "output_type": "stream",
     "text": [
      "bacdfegkl\n"
     ]
    }
   ],
   "source": [
    "def reverseStr(s, k):\n",
    "    chars = list(s)\n",
    "    n = len(chars)\n",
    "    for i in range(0, n, 2*k):\n",
    "        chars[i:i+k] = chars[i:i+k][::-1]\n",
    "    return ''.join(chars)\n",
    "\n",
    "s = \"abcdefgkl\"\n",
    "k = 2\n",
    "print(reverseStr(s, k))\n",
    "\n"
   ]
  },
  {
   "cell_type": "markdown",
   "id": "342ac853",
   "metadata": {},
   "source": [
    "<aside>\n",
    "💡 **Question 6**\n",
    "\n",
    "Given two strings s and goal, return true *if and only if* s *can become* goal *after some number of **shifts** on* s.\n",
    "\n",
    "A **shift** on s consists of moving the leftmost character of s to the rightmost position.\n",
    "\n",
    "- For example, if s = \"abcde\", then it will be \"bcdea\" after one shift.\n",
    "\n",
    "**Example 1:**\n",
    "\n",
    "**Input:** s = \"abcde\", goal = \"cdeab\"\n",
    "\n",
    "**Output:**\n",
    "\n",
    "true\n",
    "\n",
    "</aside>"
   ]
  },
  {
   "cell_type": "code",
   "execution_count": 10,
   "id": "455b998b",
   "metadata": {},
   "outputs": [
    {
     "name": "stdout",
     "output_type": "stream",
     "text": [
      "true\n"
     ]
    }
   ],
   "source": [
    "def string_shift(s, goal):\n",
    "    if len(s) != len(goal):\n",
    "        return False\n",
    "\n",
    "    concatenated = s + s\n",
    "    if goal in concatenated:\n",
    "        return True\n",
    "\n",
    "    return False\n",
    "\n",
    "s = \"abcde\"\n",
    "goal = \"cdeab\"\n",
    "print(str(string_shift(s, goal)).lower())\n"
   ]
  },
  {
   "cell_type": "markdown",
   "id": "ed76ca1f",
   "metadata": {},
   "source": [
    "<aside>\n",
    "💡 **Question 7**\n",
    "\n",
    "Given two strings s and t, return true *if they are equal when both are typed into empty text editors*. '#' means a backspace character.\n",
    "\n",
    "Note that after backspacing an empty text, the text will continue empty.\n",
    "\n",
    "**Example 1:**\n",
    "\n",
    "**Input:** s = \"ab#c\", t = \"ad#c\"\n",
    "\n",
    "**Output:** true\n",
    "\n",
    "**Explanation:**\n",
    "\n",
    "Both s and t become \"ac\".\n",
    "\n",
    "</aside>"
   ]
  },
  {
   "cell_type": "code",
   "execution_count": 21,
   "id": "f5b5ff11",
   "metadata": {},
   "outputs": [
    {
     "name": "stdout",
     "output_type": "stream",
     "text": [
      "true\n"
     ]
    }
   ],
   "source": [
    "def processString(s):\n",
    "    processed=[]\n",
    "    for char in s:\n",
    "        if char != '#':\n",
    "            processed.append(char)\n",
    "        elif processed:\n",
    "            processed.pop()    \n",
    "            \n",
    "    return \" \".join(processed)\n",
    "def backspacecopmar(s,t):\n",
    "    return processString(s)==processString(t)\n",
    "\n",
    "s = \"ab#c\"\n",
    "t = \"ad#c\"\n",
    "print(str(backspacecopmar(s, t)).lower())"
   ]
  },
  {
   "cell_type": "markdown",
   "id": "a8815281",
   "metadata": {},
   "source": [
    "<aside>\n",
    "💡 **Question 8**\n",
    "\n",
    "You are given an array coordinates, coordinates[i] = [x, y], where [x, y] represents the coordinate of a point. Check if these points make a straight line in the XY plane.\n",
    "\n",
    "</aside>\n",
    "\n",
    "**Input:** coordinates = [[1,2],[2,3],[3,4],[4,5],[5,6],[6,7]]\n",
    "\n",
    "**Output:** true\n"
   ]
  },
  {
   "cell_type": "code",
   "execution_count": 20,
   "id": "59939041",
   "metadata": {},
   "outputs": [
    {
     "name": "stdout",
     "output_type": "stream",
     "text": [
      "true\n"
     ]
    }
   ],
   "source": [
    "def checkStraightLine(coordinates):\n",
    "    x0,y0 =coordinates[0]\n",
    "    x1,y1 =coordinates[1]\n",
    "    \n",
    "    for i in range(2, len(coordinates)):\n",
    "        x , y =coordinates[i]\n",
    "        if (y-y0)*(x1-x0) !=(x-x0)*(y1-y0):\n",
    "            return False\n",
    "    return True\n",
    "\n",
    "coordinates = [[1,2],[2,3],[3,4],[4,5],[5,6],[6,7]]\n",
    "print(str(checkStraightLine(coordinates)).lower())\n"
   ]
  },
  {
   "cell_type": "code",
   "execution_count": null,
   "id": "aba96981",
   "metadata": {},
   "outputs": [],
   "source": []
  }
 ],
 "metadata": {
  "kernelspec": {
   "display_name": "Python 3 (ipykernel)",
   "language": "python",
   "name": "python3"
  },
  "language_info": {
   "codemirror_mode": {
    "name": "ipython",
    "version": 3
   },
   "file_extension": ".py",
   "mimetype": "text/x-python",
   "name": "python",
   "nbconvert_exporter": "python",
   "pygments_lexer": "ipython3",
   "version": "3.10.9"
  }
 },
 "nbformat": 4,
 "nbformat_minor": 5
}
