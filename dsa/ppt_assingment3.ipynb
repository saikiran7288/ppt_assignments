{
 "cells": [
  {
   "cell_type": "markdown",
   "id": "5ad35d3a",
   "metadata": {},
   "source": [
    "# Question 1\n",
    "Given an integer array nums of length n and an integer target, find three integers\n",
    "in nums such that the sum is closest to the target.\n",
    "Return the sum of the three integers.\n",
    "\n",
    "You may assume that each input would have exactly one solution.\n",
    "\n",
    "Example 1:\n",
    "Input: nums = [-1,2,1,-4], target = 1\n",
    "Output: 2\n",
    "\n",
    "Explanation: The sum that is closest to the target is 2. (-1 + 2 + 1 = 2)."
   ]
  },
  {
   "cell_type": "code",
   "execution_count": 2,
   "id": "b6df2e21",
   "metadata": {},
   "outputs": [],
   "source": [
    "\n",
    "#using brute-force approach\n",
    "def threeSumClosest(nums, target):\n",
    "    n = len(nums)\n",
    "    closestSum = float('inf')\n",
    "\n",
    "    for i in range(n - 2):\n",
    "        for j in range(i + 1, n - 1):\n",
    "            for k in range(j + 1, n):\n",
    "                currentSum = nums[i] + nums[j] + nums[k]\n",
    "                if abs(currentSum - target) < abs(closestSum - target):\n",
    "                    closestSum = currentSum\n",
    "\n",
    "    return closestSum\n"
   ]
  },
  {
   "cell_type": "code",
   "execution_count": 3,
   "id": "8a280b11",
   "metadata": {},
   "outputs": [
    {
     "name": "stdout",
     "output_type": "stream",
     "text": [
      "2\n"
     ]
    }
   ],
   "source": [
    "nums = [-1, 2, 1, -4]\n",
    "target = 1\n",
    "print(threeSumClosest(nums, target))\n"
   ]
  },
  {
   "cell_type": "code",
   "execution_count": 6,
   "id": "65c11fa4",
   "metadata": {},
   "outputs": [],
   "source": [
    "#using recursive approach\n",
    "def threeSumClost(nums, target):\n",
    "    n = len(nums)\n",
    "    closestSum = float('inf')\n",
    "\n",
    "    def findClosestSum(currSum, count, idx):\n",
    "        nonlocal closestSum\n",
    "\n",
    "        if count == 3:\n",
    "            if abs(currSum - target) < abs(closestSum - target):\n",
    "                closestSum = currSum\n",
    "            return\n",
    "\n",
    "        if idx >= n:\n",
    "            return\n",
    "\n",
    "        # Include the current number and recursively find the next numbers\n",
    "        findClosestSum(currSum + nums[idx], count + 1, idx + 1)\n",
    "\n",
    "        # Exclude the current number and recursively find the next numbers\n",
    "        findClosestSum(currSum, count, idx + 1)\n",
    "\n",
    "    findClosestSum(0, 0, 0)\n",
    "    return closestSum\n"
   ]
  },
  {
   "cell_type": "code",
   "execution_count": 8,
   "id": "8a10f626",
   "metadata": {},
   "outputs": [
    {
     "name": "stdout",
     "output_type": "stream",
     "text": [
      "2\n"
     ]
    }
   ],
   "source": [
    "nums = [-1, 2, 1, -4]\n",
    "target = 1\n",
    "print(threeSumClost(nums, target))"
   ]
  },
  {
   "cell_type": "markdown",
   "id": "b0794c98",
   "metadata": {},
   "source": [
    "# Question 2\n",
    "Given an array nums of n integers, return an array of all the unique quadruplets\n",
    "[nums[a], nums[b], nums[c], nums[d]] such that:\n",
    "           ● 0 <= a, b, c, d < n\n",
    "           ● a, b, c, and d are distinct.\n",
    "           ● nums[a] + nums[b] + nums[c] + nums[d] == target\n",
    "\n",
    "You may return the answer in any order.\n",
    "\n",
    "Example 1:\n",
    "Input: nums = [1,0,-1,0,-2,2], target = 0\n",
    "Output: [[-2,-1,1,2],[-2,0,0,2],[-1,0,0,1]]"
   ]
  },
  {
   "cell_type": "code",
   "execution_count": 45,
   "id": "4cbe970e",
   "metadata": {},
   "outputs": [],
   "source": [
    "#using brute force approach\n",
    "def fourSum(nums, target):\n",
    "    n = len(nums)\n",
    "    quadruplets = []\n",
    "\n",
    "    for a in range(n - 3):\n",
    "        for b in range(a + 1, n - 2):\n",
    "            for c in range(b + 1, n - 1):\n",
    "                for d in range(c + 1, n):\n",
    "                    if nums[a] + nums[b] + nums[c] + nums[d] == target:\n",
    "                        quadruplet = [nums[a], nums[b], nums[c], nums[d]]\n",
    "                        quadruplets.append(quadruplet)\n",
    "\n",
    "    return quadruplets\n",
    "\n",
    "    "
   ]
  },
  {
   "cell_type": "code",
   "execution_count": 46,
   "id": "36bd83ce",
   "metadata": {},
   "outputs": [
    {
     "name": "stdout",
     "output_type": "stream",
     "text": [
      "[[1, 0, -1, 0], [1, -1, -2, 2], [0, 0, -2, 2]]\n"
     ]
    }
   ],
   "source": [
    "nums = [1, 0, -1, 0, -2, 2]\n",
    "target = 0\n",
    "print(fourSum(nums, target))\n"
   ]
  },
  {
   "cell_type": "code",
   "execution_count": null,
   "id": "6854de6c",
   "metadata": {},
   "outputs": [],
   "source": [
    "#using recursive\n",
    "def fourSum(nums, target):\n",
    "    nums.sort()\n",
    "    n = len(nums)\n",
    "    quadruplets = []\n",
    "\n",
    "    def findQuadruplets(currQuad, start, remaining):\n",
    "        if len(currQuad) == 4:\n",
    "            if remaining == 0:\n",
    "                quadruplets.append(currQuad[:])\n",
    "            return\n",
    "\n",
    "        for i in range(start, n):\n",
    "            if i > start and nums[i] == nums[i - 1]:\n",
    "                continue\n",
    "\n",
    "            if nums[i] * (4 - len(currQuad)) > remaining:\n",
    "                break\n",
    "\n",
    "            if nums[i] + nums[-1] * (4 - len(currQuad) - 1) < remaining:\n",
    "                continue\n",
    "\n",
    "            currQuad.append(nums[i])\n",
    "            findQuadruplets(currQuad, i + 1, remaining - nums[i])\n",
    "            currQuad.pop()\n",
    "\n",
    "    findQuadruplets([], 0, target)\n",
    "    return quadruplets\n"
   ]
  },
  {
   "cell_type": "code",
   "execution_count": 47,
   "id": "59ea727d",
   "metadata": {},
   "outputs": [
    {
     "name": "stdout",
     "output_type": "stream",
     "text": [
      "[[1, 0, -1, 0], [1, -1, -2, 2], [0, 0, -2, 2]]\n"
     ]
    }
   ],
   "source": [
    "nums = [1, 0, -1, 0, -2, 2]\n",
    "target = 0\n",
    "print(fourSum(nums, target))\n"
   ]
  },
  {
   "cell_type": "markdown",
   "id": "104ad837",
   "metadata": {},
   "source": [
    "# **Question 3**\n",
    "A permutation of an array of integers is an arrangement of its members into a\n",
    "sequence or linear order.\n",
    "\n",
    "For example, for arr = [1,2,3], the following are all the permutations of arr:\n",
    "[1,2,3], [1,3,2], [2, 1, 3], [2, 3, 1], [3,1,2], [3,2,1].\n",
    "\n",
    "The next permutation of an array of integers is the next lexicographically greater\n",
    "permutation of its integer. More formally, if all the permutations of the array are\n",
    "sorted in one container according to their lexicographical order, then the next\n",
    "permutation of that array is the permutation that follows it in the sorted container.\n",
    "\n",
    "If such an arrangement is not possible, the array must be rearranged as the\n",
    "lowest possible order (i.e., sorted in ascending order).\n",
    "\n",
    "● For example, the next permutation of arr = [1,2,3] is [1,3,2].\n",
    "● Similarly, the next permutation of arr = [2,3,1] is [3,1,2].\n",
    "● While the next permutation of arr = [3,2,1] is [1,2,3] because [3,2,1] does not\n",
    "have a lexicographical larger rearrangement.\n",
    "\n",
    "Given an array of integers nums, find the next permutation of nums.\n",
    "The replacement must be in place and use only constant extra memory.\n",
    "\n",
    "**Example 1:**\n",
    "Input: nums = [1,2,3]\n",
    "Output: [1,3,2]\n",
    "\n",
    "</aside>"
   ]
  },
  {
   "cell_type": "code",
   "execution_count": 48,
   "id": "9173b847",
   "metadata": {},
   "outputs": [],
   "source": [
    "def nextPermutation(nums):\n",
    "    n = len(nums)\n",
    "    # Find the largest index i such that nums[i] < nums[i+1]\n",
    "    i = n - 2\n",
    "    while i >= 0 and nums[i] >= nums[i + 1]:\n",
    "        i -= 1\n",
    "    \n",
    "    if i >= 0:\n",
    "        # Find the largest index j such that nums[j] > nums[i]\n",
    "        j = n - 1\n",
    "        while j >= 0 and nums[j] <= nums[i]:\n",
    "            j -= 1\n",
    "        # Swap nums[i] and nums[j]\n",
    "        nums[i], nums[j] = nums[j], nums[i]\n",
    "    \n",
    "    # Reverse the subarray from i+1 to the end\n",
    "    left = i + 1\n",
    "    right = n - 1\n",
    "    while left < right:\n",
    "        nums[left], nums[right] = nums[right], nums[left]\n",
    "        left += 1\n",
    "        right -= 1\n",
    "\n",
    "    return nums\n"
   ]
  },
  {
   "cell_type": "code",
   "execution_count": 49,
   "id": "5f99181a",
   "metadata": {},
   "outputs": [
    {
     "name": "stdout",
     "output_type": "stream",
     "text": [
      "[1, 3, 2]\n"
     ]
    }
   ],
   "source": [
    "nums = [1, 2, 3]\n",
    "print(nextPermutation(nums))\n"
   ]
  },
  {
   "cell_type": "code",
   "execution_count": 50,
   "id": "2c72303d",
   "metadata": {},
   "outputs": [],
   "source": [
    "def nextPermutation(nums):\n",
    "    n = len(nums)\n",
    "\n",
    "    def reverse(nums, left, right):\n",
    "        while left < right:\n",
    "            nums[left], nums[right] = nums[right], nums[left]\n",
    "            left += 1\n",
    "            right -= 1\n",
    "\n",
    "    def findNextPermutation(nums, idx):\n",
    "        if idx == 0:\n",
    "            return False\n",
    "\n",
    "        if nums[idx] > nums[idx - 1]:\n",
    "            j = n - 1\n",
    "            while nums[j] <= nums[idx - 1]:\n",
    "                j -= 1\n",
    "            nums[idx - 1], nums[j] = nums[j], nums[idx - 1]\n",
    "            reverse(nums, idx, n - 1)\n",
    "            return True\n",
    "        else:\n",
    "            if findNextPermutation(nums, idx - 1):\n",
    "                return True\n",
    "            else:\n",
    "                return False\n",
    "\n",
    "    if findNextPermutation(nums, n - 1):\n",
    "        return nums\n",
    "    else:\n",
    "        nums.reverse()\n",
    "        return nums\n"
   ]
  },
  {
   "cell_type": "code",
   "execution_count": 51,
   "id": "1262d669",
   "metadata": {},
   "outputs": [
    {
     "name": "stdout",
     "output_type": "stream",
     "text": [
      "[1, 3, 2]\n"
     ]
    }
   ],
   "source": [
    "nums = [1, 2, 3]\n",
    "print(nextPermutation(nums))\n"
   ]
  },
  {
   "cell_type": "markdown",
   "id": "ece86e07",
   "metadata": {},
   "source": [
    "# Question 4\n",
    "Given a sorted array of distinct integers and a target value, return the index if the\n",
    "target is found. If not, return the index where it would be if it were inserted in\n",
    "order.\n",
    "\n",
    "You must write an algorithm with O(log n) runtime complexity.\n",
    "\n",
    "Example 1:\n",
    "Input: nums = [1,3,5,6], target = 5\n",
    "Output: 2"
   ]
  },
  {
   "cell_type": "code",
   "execution_count": 56,
   "id": "45b5cec3",
   "metadata": {},
   "outputs": [],
   "source": [
    "#using brute force\n",
    "def searchInsert(nums, target):\n",
    "    n = len(nums)\n",
    "    for i in range(n):\n",
    "        if nums[i] >= target:\n",
    "            return i\n",
    "    return n\n"
   ]
  },
  {
   "cell_type": "code",
   "execution_count": 57,
   "id": "27a0e16e",
   "metadata": {},
   "outputs": [
    {
     "name": "stdout",
     "output_type": "stream",
     "text": [
      "2\n"
     ]
    }
   ],
   "source": [
    "nums = [1, 3, 5, 6]\n",
    "target = 5\n",
    "print(searchInsert(nums, target))\n"
   ]
  },
  {
   "cell_type": "code",
   "execution_count": 58,
   "id": "0055969a",
   "metadata": {},
   "outputs": [],
   "source": [
    "#using recursive  approach\n",
    "def searchInsert(nums, target):\n",
    "    left = 0\n",
    "    right = len(nums) - 1\n",
    "\n",
    "    while left <= right:\n",
    "        mid = left + (right - left) // 2\n",
    "        if nums[mid] == target:\n",
    "            return mid\n",
    "        elif nums[mid] < target:\n",
    "            left = mid + 1\n",
    "        else:\n",
    "            right = mid - 1\n",
    "\n",
    "    return left\n"
   ]
  },
  {
   "cell_type": "code",
   "execution_count": 59,
   "id": "e9e0019d",
   "metadata": {},
   "outputs": [
    {
     "name": "stdout",
     "output_type": "stream",
     "text": [
      "2\n"
     ]
    }
   ],
   "source": [
    "nums = [1, 3, 5, 6]\n",
    "target = 5\n",
    "print(searchInsert(nums, target))\n"
   ]
  },
  {
   "cell_type": "markdown",
   "id": "b61fef64",
   "metadata": {},
   "source": [
    "#  **Question 5**\n",
    "You are given a large integer represented as an integer array digits, where each\n",
    "digits[i] is the ith digit of the integer. The digits are ordered from most significant\n",
    "to least significant in left-to-right order. The large integer does not contain any\n",
    "leading 0's.\n",
    "\n",
    "Increment the large integer by one and return the resulting array of digits.\n",
    "\n",
    "**Example 1:**\n",
    "Input: digits = [1,2,3]\n",
    "Output: [1,2,4]\n",
    "\n",
    "**Explanation:** The array represents the integer 123.\n",
    "Incrementing by one gives 123 + 1 = 124.\n",
    "Thus, the result should be [1,2,4].\n",
    "\n",
    "</aside>"
   ]
  },
  {
   "cell_type": "code",
   "execution_count": 68,
   "id": "49cc0b65",
   "metadata": {},
   "outputs": [],
   "source": [
    "def plusone(digits):\n",
    "    n =len(digits)\n",
    "    carry =1\n",
    "    for i in range(n-1,-1,-1):\n",
    "        digits[i] += carry\n",
    "        if  digits[i] ==10:\n",
    "            digits[i]=0\n",
    "\n",
    "            carry =1\n",
    "        else:\n",
    "            carry =0\n",
    "    if carry == 1:\n",
    "        digits.insert(0,1)\n",
    "\n",
    "    return digits\n",
    "\n",
    "\n",
    "            "
   ]
  },
  {
   "cell_type": "code",
   "execution_count": 71,
   "id": "9bbbd63b",
   "metadata": {},
   "outputs": [
    {
     "name": "stdout",
     "output_type": "stream",
     "text": [
      "[1, 3, 0]\n"
     ]
    }
   ],
   "source": [
    "digits = [1, 2, 9]\n",
    "print(plusone(digits))\n"
   ]
  },
  {
   "cell_type": "code",
   "execution_count": 72,
   "id": "30ba90d1",
   "metadata": {},
   "outputs": [],
   "source": [
    "#using recursive \n",
    "\n",
    "def plusOne(digits):\n",
    "    def increment(digits, idx):\n",
    "        if idx < 0:\n",
    "            digits.insert(0, 1)\n",
    "            return\n",
    "        digits[idx] += 1\n",
    "        if digits[idx] == 10:\n",
    "            digits[idx] = 0\n",
    "            increment(digits, idx - 1)\n",
    "\n",
    "    increment(digits, len(digits) - 1)\n",
    "    return digits\n"
   ]
  },
  {
   "cell_type": "code",
   "execution_count": 73,
   "id": "d4546a14",
   "metadata": {},
   "outputs": [
    {
     "name": "stdout",
     "output_type": "stream",
     "text": [
      "[1, 2, 4]\n"
     ]
    }
   ],
   "source": [
    "digits = [1, 2, 3]\n",
    "print(plusOne(digits))\n"
   ]
  },
  {
   "cell_type": "markdown",
   "id": "826d6223",
   "metadata": {},
   "source": [
    "# Question 6\n",
    "Given a non-empty array of integers nums, every element appears twice except\n",
    "for one. Find that single one.\n",
    "\n",
    "You must implement a solution with a linear runtime complexity and use only\n",
    "constant extra space.\n",
    "\n",
    "Example 1:\n",
    "Input: nums = [2,2,1]\n",
    "Output: 1"
   ]
  },
  {
   "cell_type": "code",
   "execution_count": 82,
   "id": "636c3294",
   "metadata": {},
   "outputs": [],
   "source": [
    "#using brute force\n",
    "def singular(nums):\n",
    "    unique_set =set()\n",
    "    for num in nums:\n",
    "        if num in unique_set:\n",
    "            unique_set.remove(num)\n",
    "        else:\n",
    "            unique_set.add(num)\n",
    "    return unique_set.pop()"
   ]
  },
  {
   "cell_type": "code",
   "execution_count": 84,
   "id": "7f56ef58",
   "metadata": {},
   "outputs": [
    {
     "name": "stdout",
     "output_type": "stream",
     "text": [
      "1\n"
     ]
    }
   ],
   "source": [
    "nums = [2, 2, 1]\n",
    "print(singular(nums))\n"
   ]
  },
  {
   "cell_type": "code",
   "execution_count": 86,
   "id": "539bb932",
   "metadata": {},
   "outputs": [],
   "source": [
    "#using  recursion\n",
    "def singleNumber(nums):\n",
    "    result = 0\n",
    "    for num in nums:\n",
    "        result ^= num\n",
    "    return result\n"
   ]
  },
  {
   "cell_type": "code",
   "execution_count": 87,
   "id": "9ccc91dc",
   "metadata": {},
   "outputs": [
    {
     "name": "stdout",
     "output_type": "stream",
     "text": [
      "1\n"
     ]
    }
   ],
   "source": [
    "nums = [2, 2, 1]\n",
    "print(singleNumber(nums))\n"
   ]
  },
  {
   "cell_type": "markdown",
   "id": "106ef6d7",
   "metadata": {},
   "source": [
    "# Question 7\n",
    "You are given an inclusive range [lower, upper] and a sorted unique integer array\n",
    "nums, where all elements are within the inclusive range.\n",
    "\n",
    "A number x is considered missing if x is in the range [lower, upper] and x is not in\n",
    "nums.\n",
    "\n",
    "Return the shortest sorted list of ranges that exactly covers all the missing\n",
    "numbers. That is, no element of nums is included in any of the ranges, and each\n",
    "missing number is covered by one of the ranges.\n",
    "\n",
    "Example 1:\n",
    "Input: nums = [0,1,3,50,75], lower = 0, upper = 99\n",
    "Output: [[2,2],[4,49],[51,74],[76,99]]\n",
    "\n",
    "Explanation: The ranges are:\n",
    "[2,2]\n",
    "[4,49]\n",
    "[51,74]\n",
    "[76,99]"
   ]
  },
  {
   "cell_type": "code",
   "execution_count": 92,
   "id": "f745209c",
   "metadata": {},
   "outputs": [
    {
     "name": "stdout",
     "output_type": "stream",
     "text": [
      "[[2, 2], [4, 49], [51, 74], [76, 99]]\n"
     ]
    }
   ],
   "source": [
    "#brute force\n",
    "def findMissingRanges(nums, lower, upper):\n",
    "    result = []\n",
    "    start = lower\n",
    "    for num in nums + [upper + 1]:\n",
    "        if num == start:\n",
    "            start += 1\n",
    "        elif num > start:\n",
    "            end = num - 1\n",
    "            result.append([start, end])\n",
    "            start = num + 1\n",
    "    return result\n",
    "\n",
    "\n",
    "nums = [0, 1, 3, 50, 75]\n",
    "lower = 0\n",
    "upper = 99\n",
    "print(findMissingRanges(nums, lower, upper))\n",
    "\n"
   ]
  },
  {
   "cell_type": "markdown",
   "id": "56ed832c",
   "metadata": {},
   "source": [
    "# Question 8\n",
    "Given an array of meeting time intervals where intervals[i] = [starti, endi],\n",
    "determine if a person could attend all meetings.\n",
    "\n",
    "Example 1:\n",
    "Input: intervals = [[0,30],[5,10],[15,20]]\n",
    "Output: false"
   ]
  },
  {
   "cell_type": "code",
   "execution_count": 93,
   "id": "4bc806d3",
   "metadata": {},
   "outputs": [
    {
     "name": "stdout",
     "output_type": "stream",
     "text": [
      "False\n"
     ]
    }
   ],
   "source": [
    "# using brute force\n",
    "\n",
    "def canAttendMeetings(intervals):\n",
    "    n = len(intervals)\n",
    "    for i in range(n - 1):\n",
    "        for j in range(i + 1, n):\n",
    "            if intervals[i][0] < intervals[j][1] and intervals[i][1] > intervals[j][0]:\n",
    "                return False\n",
    "    return True\n",
    "\n",
    "intervals = [[0, 30], [5, 10], [15, 20]]\n",
    "print(canAttendMeetings(intervals))\n"
   ]
  },
  {
   "cell_type": "code",
   "execution_count": null,
   "id": "10947794",
   "metadata": {},
   "outputs": [],
   "source": []
  }
 ],
 "metadata": {
  "kernelspec": {
   "display_name": "Python 3 (ipykernel)",
   "language": "python",
   "name": "python3"
  },
  "language_info": {
   "codemirror_mode": {
    "name": "ipython",
    "version": 3
   },
   "file_extension": ".py",
   "mimetype": "text/x-python",
   "name": "python",
   "nbconvert_exporter": "python",
   "pygments_lexer": "ipython3",
   "version": "3.10.9"
  }
 },
 "nbformat": 4,
 "nbformat_minor": 5
}
