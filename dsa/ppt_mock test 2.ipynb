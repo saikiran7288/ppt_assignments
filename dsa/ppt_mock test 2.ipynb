{
 "cells": [
  {
   "cell_type": "markdown",
   "id": "68525bd9",
   "metadata": {},
   "source": [
    " Question 1\n",
    " \n",
    " Given a non-negative integer x, return the square root of x rounded down to the nearest integer. The returned integer should be non-negative as well. You must not use any built-in exponent function or operator. \n",
    "\n",
    " Example 1:\n",
    "Input: x = 4 Output: 2 Explanation: The square root of 4 is 2, so we return 2.\n",
    "\n",
    "Example 2:\n",
    "Input: x = 8 Output: 2 Explanation: The square root of 8 is 2.82842..., and since we round it down to the nearest integer, 2 is returned.\n",
    "\n",
    "Constraints:\n",
    "0 <= x <= 2^31 - 1"
   ]
  },
  {
   "cell_type": "code",
   "execution_count": 2,
   "id": "c4f959c4",
   "metadata": {},
   "outputs": [
    {
     "name": "stdout",
     "output_type": "stream",
     "text": [
      "2\n",
      "2\n"
     ]
    }
   ],
   "source": [
    "def mySqrt(x):\n",
    "    if x == 0:\n",
    "        return 0\n",
    "\n",
    "    left = 1\n",
    "    right = x\n",
    "\n",
    "    while left <= right:\n",
    "        mid = (left + right) // 2\n",
    "        if mid * mid == x:\n",
    "            return mid\n",
    "        elif mid * mid > x:\n",
    "            right = mid - 1\n",
    "        else:\n",
    "            left = mid + 1\n",
    "\n",
    "    return right\n",
    "\n",
    "print(mySqrt(4))  # Output: 2\n",
    "print(mySqrt(8))  # Output: 2\n",
    "\n"
   ]
  },
  {
   "cell_type": "markdown",
   "id": "ae867ed4",
   "metadata": {},
   "source": [
    "Question 2\n",
    "\n",
    "\n",
    "You are given two non-empty linked lists representing two non-negative integers. The digits are stored in reverse order, and each of their nodes contains a single digit. Add the two numbers and return the sum as a linked list.\n",
    "\n",
    "You may assume the two numbers do not contain any leading zero, except the number 0 itself.\n",
    "\n",
    "Example 1:\n",
    "\n",
    "Input: l1 = [2,4,3], l2 = [5,6,4] Output: [7,0,8] Explanation: 342 + 465 = 807.\n",
    "\n",
    "Example 2:\n",
    "\n",
    "Input: l1 = [0], l2 = [0] Output: [0]\n",
    "\n",
    "Example 3:\n",
    "\n",
    "Input: l1 = [9,9,9,9,9,9,9], l2 = [9,9,9,9] Output: [8,9,9,9,0,0,0,1]\n",
    "\n",
    " \n",
    "\n",
    "Constraints:\n",
    "\n",
    "The number of nodes in each linked list is in the range [1, 100].\n",
    "0 <= Node.val <= 9 It is guaranteed that the list represents a number that does not have leading zeros."
   ]
  },
  {
   "cell_type": "code",
   "execution_count": 15,
   "id": "f727c377",
   "metadata": {},
   "outputs": [
    {
     "name": "stdout",
     "output_type": "stream",
     "text": [
      "Enter the digits of the first number (in reverse order): 2 4 3\n",
      "Enter the digits of the second number (in reverse order):  5 6 4\n",
      "Result: [8, 0, 7]\n"
     ]
    }
   ],
   "source": [
    "class ListNode:\n",
    "    def __init__(self, val=0, next=None):\n",
    "        self.val = val\n",
    "        self.next = next\n",
    "\n",
    "def addTwoNumbers(l1, l2):\n",
    "    dummy = ListNode()\n",
    "    current = dummy\n",
    "    carry = 0\n",
    "\n",
    "    while l1 or l2 or carry:\n",
    "        x = l1.val if l1 else 0\n",
    "        y = l2.val if l2 else 0\n",
    "        carry, digit = divmod(x + y + carry, 10)\n",
    "\n",
    "        current.next = ListNode(digit)\n",
    "        current = current.next\n",
    "\n",
    "        if l1:\n",
    "            l1 = l1.next\n",
    "        if l2:\n",
    "            l2 = l2.next\n",
    "\n",
    "    return dummy.next\n",
    "\n",
    "# Input from user for the first linked list\n",
    "nums = list(map(int, input(\"Enter the digits of the first number (in reverse order): \").split()))\n",
    "l1 = ListNode(nums[0])\n",
    "current = l1\n",
    "for num in nums[1:]:\n",
    "    current.next = ListNode(num)\n",
    "    current = current.next\n",
    "\n",
    "# Input from user for the second linked list\n",
    "nums = list(map(int, input(\"Enter the digits of the second number (in reverse order): \").split()))\n",
    "l2 = ListNode(nums[0])\n",
    "current = l2\n",
    "for num in nums[1:]:\n",
    "    current.next = ListNode(num)\n",
    "    current = current.next\n",
    "\n",
    "# Compute the sum of the two numbers\n",
    "result = addTwoNumbers(l1, l2)\n",
    "\n",
    "# Reverse the result list\n",
    "output = []\n",
    "while result:\n",
    "    output.append(result.val)\n",
    "    result = result.next\n",
    "output = output[::-1]\n",
    "\n",
    "print(\"Result:\", output)\n"
   ]
  },
  {
   "cell_type": "markdown",
   "id": "ee9b96ac",
   "metadata": {},
   "source": [
    "Enter the digits of the first number (in reverse order): 2 4 3\n",
    "Enter the digits of the second number (in reverse order): 5 6 4\n",
    "Result: ['8', '0', '7']\n",
    "\n",
    "\n",
    "\n",
    "Enter the digits of the first number (in reverse order): 0\n",
    "Enter the digits of the second number (in reverse order): 0\n",
    "Result: ['0']\n",
    "\n",
    "Enter the digits of the first number (in reverse order): 9 9 9 9 9 9 9\n",
    "Enter the digits of the second number (in reverse order): 9 9 9 9\n",
    "Result: [8, 9, 9, 9, 0, 0, 0, 1]"
   ]
  },
  {
   "cell_type": "code",
   "execution_count": null,
   "id": "82402723",
   "metadata": {},
   "outputs": [],
   "source": []
  }
 ],
 "metadata": {
  "kernelspec": {
   "display_name": "Python 3 (ipykernel)",
   "language": "python",
   "name": "python3"
  },
  "language_info": {
   "codemirror_mode": {
    "name": "ipython",
    "version": 3
   },
   "file_extension": ".py",
   "mimetype": "text/x-python",
   "name": "python",
   "nbconvert_exporter": "python",
   "pygments_lexer": "ipython3",
   "version": "3.10.9"
  }
 },
 "nbformat": 4,
 "nbformat_minor": 5
}
