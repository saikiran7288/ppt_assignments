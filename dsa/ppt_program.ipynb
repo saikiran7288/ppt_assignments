{
 "cells": [
  {
   "cell_type": "code",
   "execution_count": 6,
   "id": "39dde742",
   "metadata": {},
   "outputs": [
    {
     "name": "stdout",
     "output_type": "stream",
     "text": [
      "higher frequency Word: write\n",
      "Length: 5\n"
     ]
    }
   ],
   "source": [
    "def find_highest_frequency_word_length(string):\n",
    "    # Split the string into words\n",
    "    words = string.split()\n",
    "\n",
    "    # Create a dictionary to store the frequency of each word\n",
    "    word_frequency = {}\n",
    "\n",
    "    # Count the frequency of each word\n",
    "    for word in words:\n",
    "        if word in word_frequency:\n",
    "            word_frequency[word] += 1\n",
    "        else:\n",
    "            word_frequency[word] = 1\n",
    "\n",
    "    # Find the highest frequency\n",
    "    max_frequency = max(word_frequency.values())\n",
    "\n",
    "    # Find the length and word with the highest frequency\n",
    "    highest_frequency_word = \"\"\n",
    "    highest_frequency_word_length = 0\n",
    "    for word, frequency in word_frequency.items():\n",
    "        if frequency == max_frequency:\n",
    "            if len(word) > highest_frequency_word_length:\n",
    "                highest_frequency_word = word\n",
    "                highest_frequency_word_length = len(word)\n",
    "\n",
    "    return highest_frequency_word, highest_frequency_word_length\n",
    "\n",
    "\n",
    "# Example usage:\n",
    "string = \"write write write all the number from from from 1 to 100\"\n",
    "word, length = find_highest_frequency_word_length(string)\n",
    "print(\"higher frequency Word:\", word)\n",
    "print(\"Length:\", length)\n"
   ]
  },
  {
   "cell_type": "code",
   "execution_count": 7,
   "id": "83bf0081",
   "metadata": {},
   "outputs": [
    {
     "name": "stdout",
     "output_type": "stream",
     "text": [
      "YES\n",
      "NO\n"
     ]
    }
   ],
   "source": [
    "def is_valid_string(s):\n",
    "    # Count the frequency of each character\n",
    "    char_frequency = {}\n",
    "    for char in s:\n",
    "        if char in char_frequency:\n",
    "            char_frequency[char] += 1\n",
    "        else:\n",
    "            char_frequency[char] = 1\n",
    "\n",
    "    # Count the frequency of frequencies\n",
    "    freq_frequency = {}\n",
    "    for freq in char_frequency.values():\n",
    "        if freq in freq_frequency:\n",
    "            freq_frequency[freq] += 1\n",
    "        else:\n",
    "            freq_frequency[freq] = 1\n",
    "\n",
    "    # If all characters have the same frequency, it's a valid string\n",
    "    if len(freq_frequency) == 1:\n",
    "        return \"YES\"\n",
    "\n",
    "    # If there are more than two different frequencies, it's not valid\n",
    "    if len(freq_frequency) > 1:\n",
    "        return \"NO\"\n",
    "\n",
    "    # If there are exactly two different frequencies\n",
    "    # Check if removing one character can make it a valid string\n",
    "    freq_keys = list(freq_frequency.keys())\n",
    "    freq_values = list(freq_frequency.values())\n",
    "    if freq_values[0] == 1 and (freq_keys[0] - freq_keys[1] == 1 or freq_keys[0] == 1):\n",
    "        return \"YES\"\n",
    "    elif freq_values[1] == 1 and (freq_keys[1] - freq_keys[0] == 1 or freq_keys[1] == 1):\n",
    "        return \"YES\"\n",
    "\n",
    "    return \"NO\"\n",
    "\n",
    "\n",
    "# Example usage:\n",
    "s1 = \"abc\"\n",
    "result1 = is_valid_string(s1)\n",
    "print(result1)  # Output: YES\n",
    "\n",
    "s2 = \"abcc\"\n",
    "result2 = is_valid_string(s2)\n",
    "print(result2)  # Output: NO\n"
   ]
  },
  {
   "cell_type": "code",
   "execution_count": 1,
   "id": "3bc7ffe0",
   "metadata": {},
   "outputs": [
    {
     "name": "stdout",
     "output_type": "stream",
     "text": [
      "An error occurred: HTTPSConnectionPool(host='raw.githubusercontent.com', port=443): Max retries exceeded with url: /Biuni/PokemonGO-Pokedex/master/pokedex.json (Caused by ConnectTimeoutError(<urllib3.connection.HTTPSConnection object at 0x000001DAB2199090>, 'Connection to raw.githubusercontent.com timed out. (connect timeout=None)'))\n"
     ]
    }
   ],
   "source": [
    "import requests\n",
    "import pandas as pd\n",
    "\n",
    "def download_and_convert_data(url):\n",
    "    try:\n",
    "        # Send a GET request to the provided URL\n",
    "        response = requests.get(url)\n",
    "\n",
    "        # Check if the request was successful\n",
    "        if response.status_code == 200:\n",
    "            # Parse the JSON data\n",
    "            data = response.json()\n",
    "\n",
    "            # Extract relevant attributes from the data\n",
    "            pokemon_data = []\n",
    "            for pokemon in data['pokemon']:\n",
    "                pokemon_info = {\n",
    "                    'id': pokemon['id'],\n",
    "                    'num': pokemon['num'],\n",
    "                    'name': pokemon['name'],\n",
    "                    'img': pokemon['img'],\n",
    "                    'type': ','.join(pokemon['type']),\n",
    "                    'height': pokemon['height'],\n",
    "                    'weight': pokemon['weight'],\n",
    "                    'candy': pokemon.get('candy', ''),\n",
    "                    'candy_count': pokemon.get('candy_count', ''),\n",
    "                    'egg': pokemon.get('egg', ''),\n",
    "                    'spawn_chance': pokemon.get('spawn_chance', ''),\n",
    "                    'avg_spawns': pokemon.get('avg_spawns', ''),\n",
    "                    'spawn_time': pokemon.get('spawn_time', ''),\n",
    "                    'multipliers': ','.join([str(m) for m in pokemon.get('multipliers', [])]),\n",
    "                    'weakness': ','.join(pokemon.get('weaknesses', [])),\n",
    "                    'next_evolution': ','.join([f\"{e['num']}: {e['name']}\" for e in pokemon.get('next_evolution', [])]),\n",
    "                    'prev_evolution': ','.join([f\"{e['num']}: {e['name']}\" for e in pokemon.get('prev_evolution', [])])\n",
    "                }\n",
    "                pokemon_data.append(pokemon_info)\n",
    "\n",
    "            # Create a DataFrame from the extracted data\n",
    "            df = pd.DataFrame(pokemon_data)\n",
    "\n",
    "            # Convert the DataFrame to Excel format\n",
    "            excel_data = df.to_excel(\"pokemon_data.xlsx\", index=False)\n",
    "\n",
    "            return excel_data\n",
    "\n",
    "    except requests.exceptions.RequestException as e:\n",
    "        print(\"An error occurred:\", e)\n",
    "\n",
    "    return None\n",
    "\n",
    "# Example usage:\n",
    "url = \"https://raw.githubusercontent.com/Biuni/PokemonGO-Pokedex/master/pokedex.json\"\n",
    "download_and_convert_data(url)\n"
   ]
  },
  {
   "cell_type": "code",
   "execution_count": 1,
   "id": "86a347f0",
   "metadata": {},
   "outputs": [
    {
     "name": "stdout",
     "output_type": "stream",
     "text": [
      "An error occurred: <urlopen error [WinError 10060] A connection attempt failed because the connected party did not properly respond after a period of time, or established connection failed because connected host has failed to respond>\n"
     ]
    }
   ],
   "source": [
    "import urllib.request\n",
    "import pandas as pd\n",
    "\n",
    "def download_and_convert_data(url):\n",
    "    try:\n",
    "        # Download the data from the provided URL\n",
    "        urllib.request.urlretrieve(url, \"pokemon_data.json\")\n",
    "\n",
    "        # Read the downloaded JSON data\n",
    "        with open(\"pokemon_data.json\", \"r\") as file:\n",
    "            data = file.read()\n",
    "\n",
    "        # Convert the JSON data to a DataFrame\n",
    "        df = pd.read_json(data)\n",
    "\n",
    "        # Convert the DataFrame to Excel format\n",
    "        excel_data = df.to_excel(\"pokemon_data.xlsx\", index=False)\n",
    "\n",
    "        return excel_data\n",
    "\n",
    "    except Exception as e:\n",
    "        print(\"An error occurred:\", e)\n",
    "\n",
    "    return None\n",
    "\n",
    "# Example usage:\n",
    "url = \"https://raw.githubusercontent.com/Biuni/PokemonGO-Pokedex/master/pokedex.json\"\n",
    "download_and_convert_data(url)\n"
   ]
  },
  {
   "cell_type": "code",
   "execution_count": null,
   "id": "58468fb9",
   "metadata": {},
   "outputs": [],
   "source": []
  }
 ],
 "metadata": {
  "kernelspec": {
   "display_name": "Python 3 (ipykernel)",
   "language": "python",
   "name": "python3"
  },
  "language_info": {
   "codemirror_mode": {
    "name": "ipython",
    "version": 3
   },
   "file_extension": ".py",
   "mimetype": "text/x-python",
   "name": "python",
   "nbconvert_exporter": "python",
   "pygments_lexer": "ipython3",
   "version": "3.10.9"
  }
 },
 "nbformat": 4,
 "nbformat_minor": 5
}
