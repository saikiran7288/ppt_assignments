{
 "cells": [
  {
   "cell_type": "markdown",
   "id": "391a5f8e",
   "metadata": {},
   "source": [
    "1. Write a Python program to reverse a string without using any built-in string reversal functions"
   ]
  },
  {
   "cell_type": "code",
   "execution_count": 51,
   "id": "dd6cfa9c",
   "metadata": {},
   "outputs": [
    {
     "name": "stdout",
     "output_type": "stream",
     "text": [
      "n a r i k i a s "
     ]
    }
   ],
   "source": [
    "string =\"saikiran\"\n",
    "d =[]\n",
    "for i in range(len(string)-1,-1,-1):\n",
    "    rev_string = string[i]\n",
    "    print(rev_string,end=\" \")\n",
    " "
   ]
  },
  {
   "cell_type": "markdown",
   "id": "e68bc01f",
   "metadata": {},
   "source": [
    "2. Implement a function to check if a given string is a palindrome."
   ]
  },
  {
   "cell_type": "code",
   "execution_count": 71,
   "id": "3896146f",
   "metadata": {},
   "outputs": [
    {
     "name": "stdout",
     "output_type": "stream",
     "text": [
      "palindrome\n"
     ]
    }
   ],
   "source": [
    "def palindrome(string):\n",
    "    length = len(string)\n",
    "    \n",
    "    for i in range(length):\n",
    "        for j in range(length - 1, - 1, -1):\n",
    "            if string[i] == string[j]:\n",
    "                substring = string[i:j+1]\n",
    "                if substring == substring[::-1]:\n",
    "                    if len(substring) == length:\n",
    "                        return \"palindrome\"\n",
    "                    else:\n",
    "                        return \"found sub-palindrome\"\n",
    "    \n",
    "    return \"not a palindrome\"\n",
    "\n",
    "input_string = input()\n",
    "result = palindrome(input_string)\n",
    "print(result)\n"
   ]
  },
  {
   "cell_type": "markdown",
   "id": "20e49403",
   "metadata": {},
   "source": [
    "3. Write a program to find the largest element in a given list."
   ]
  },
  {
   "cell_type": "code",
   "execution_count": 10,
   "id": "262a8d9f",
   "metadata": {},
   "outputs": [
    {
     "name": "stdout",
     "output_type": "stream",
     "text": [
      "The largest element in the list is: 9\n"
     ]
    }
   ],
   "source": [
    "def find_largest_element(lst):\n",
    "    if not lst:\n",
    "        return None\n",
    "\n",
    "    largest = lst[0]\n",
    "    for element in lst:\n",
    "        if element > largest:\n",
    "            largest = element\n",
    "\n",
    "    return largest\n",
    "\n",
    "\n",
    "# Example usage\n",
    "my_list = [5, 8, 3, 9, 2, 7]\n",
    "largest_element = find_largest_element(my_list)\n",
    "print(\"The largest element in the list is:\", largest_element)\n"
   ]
  },
  {
   "cell_type": "markdown",
   "id": "2be6aea5",
   "metadata": {},
   "source": [
    " 4. Implement a function to count the occurrence of each element in a list."
   ]
  },
  {
   "cell_type": "code",
   "execution_count": 18,
   "id": "54e73c55",
   "metadata": {},
   "outputs": [
    {
     "name": "stdout",
     "output_type": "stream",
     "text": [
      "{1: 2, 3: 4, 4: 2, 2: 3}\n"
     ]
    }
   ],
   "source": [
    "def oc_element(lst):\n",
    "    dct ={}\n",
    "    for i in lst:\n",
    "        if i  in dct:\n",
    "             dct[i] +=1\n",
    "        else:\n",
    "            dct[i]= 1\n",
    "    return dct\n",
    "\n",
    "lst =[1,3,4,3,2,2,1,2,3,4,3]\n",
    "print(oc_element(lst))"
   ]
  },
  {
   "cell_type": "markdown",
   "id": "b0953185",
   "metadata": {},
   "source": [
    "5. Write a Python program to find the second largest number in a list."
   ]
  },
  {
   "cell_type": "code",
   "execution_count": 6,
   "id": "17f3f227",
   "metadata": {},
   "outputs": [
    {
     "name": "stdout",
     "output_type": "stream",
     "text": [
      "33\n"
     ]
    }
   ],
   "source": [
    "lt =[2,3,4,5,4,33,44]\n",
    "largest = 0\n",
    "second_largest = 0\n",
    "for num in lt:\n",
    "    if num > largest:\n",
    "        second_largest =largest\n",
    "        largest = num\n",
    "    elif largest > num > second_largest:\n",
    "        second_largest =num\n",
    "print(second_largest)"
   ]
  },
  {
   "cell_type": "markdown",
   "id": "1d966958",
   "metadata": {},
   "source": [
    "6. Implement a function to remove duplicate elements from a list"
   ]
  },
  {
   "cell_type": "code",
   "execution_count": 1,
   "id": "c6402058",
   "metadata": {},
   "outputs": [
    {
     "name": "stdout",
     "output_type": "stream",
     "text": [
      "[1, 2, 3, 4, 5, 6, 7, 8, 66]\n"
     ]
    }
   ],
   "source": [
    "def dup_remover(lt):\n",
    "    lst =[]\n",
    "    for  dp in lt:\n",
    "        if dp not in lst:\n",
    "            lst.append(dp)\n",
    "    return lst\n",
    "d =[1,2,3,4,5,4,6,7,8,7,6,5,66]\n",
    "print(dup_remover(d))"
   ]
  },
  {
   "cell_type": "markdown",
   "id": "7a9368c5",
   "metadata": {},
   "source": [
    "7. Write a program to calculate the factorial of a given number."
   ]
  },
  {
   "cell_type": "code",
   "execution_count": 30,
   "id": "ad3fb746",
   "metadata": {},
   "outputs": [
    {
     "name": "stdout",
     "output_type": "stream",
     "text": [
      "5\n",
      "120\n"
     ]
    }
   ],
   "source": [
    "num = int(input())\n",
    "if num <= 1:\n",
    "    print (num)\n",
    "factorial =1\n",
    "for fac in range(2,num+1):\n",
    "    factorial *=fac\n",
    "print(factorial)"
   ]
  },
  {
   "cell_type": "markdown",
   "id": "b46cefdd",
   "metadata": {},
   "source": [
    "8. Implement a function to check if a given number is prime"
   ]
  },
  {
   "cell_type": "code",
   "execution_count": 36,
   "id": "fb9273b9",
   "metadata": {},
   "outputs": [
    {
     "name": "stdout",
     "output_type": "stream",
     "text": [
      "8\n",
      "not a prime\n"
     ]
    }
   ],
   "source": [
    "def prime(n):\n",
    "    if n % 2 !=0:\n",
    "        return \"prime\"\n",
    "    else:\n",
    "        return \"not a prime\"\n",
    "num =int(input())\n",
    "print(prime(num))\n",
    "    "
   ]
  },
  {
   "cell_type": "markdown",
   "id": "94ac79b9",
   "metadata": {},
   "source": [
    "9. Write a Python program to sort a list of integers in ascending order."
   ]
  },
  {
   "cell_type": "code",
   "execution_count": 47,
   "id": "987710b7",
   "metadata": {},
   "outputs": [
    {
     "name": "stdout",
     "output_type": "stream",
     "text": [
      "Original list: [5, 2, 7, 1, 8, 3]\n",
      "Sorted list: [1, 2, 3, 5, 7, 8]\n"
     ]
    }
   ],
   "source": [
    "def sort_list(numbers):\n",
    "    for i in range(len(numbers)):\n",
    "        for j in range(i + 1, len(numbers)):\n",
    "            if numbers[i] > numbers[j]:\n",
    "                numbers[i], numbers[j] = numbers[j], numbers[i]\n",
    "\n",
    "\n",
    "# Example usage\n",
    "my_list = [5, 2, 7, 1, 8, 3]\n",
    "print(\"Original list:\", my_list)\n",
    "\n",
    "sort_list(my_list)\n",
    "print(\"Sorted list:\", my_list)\n"
   ]
  },
  {
   "cell_type": "markdown",
   "id": "7280cc7e",
   "metadata": {},
   "source": [
    "9. Write a Python program to sort a list of integers in ascending order"
   ]
  },
  {
   "cell_type": "code",
   "execution_count": 13,
   "id": "2055f86f",
   "metadata": {},
   "outputs": [
    {
     "name": "stdout",
     "output_type": "stream",
     "text": [
      "[1, 2, 3, 5, 7, 8]\n"
     ]
    }
   ],
   "source": [
    "numbers= [5, 2, 7, 1, 8, 3]\n",
    "for num in range(len(numbers)):\n",
    "    for num1 in range(num+1,len(numbers)):\n",
    "        if numbers[num]>numbers[num1]:\n",
    "            numbers[num],numbers[num1]= numbers[num1],numbers[num]           \n",
    "print(numbers)\n",
    "            "
   ]
  },
  {
   "cell_type": "markdown",
   "id": "731ce0d6",
   "metadata": {},
   "source": [
    "10. Implement a function to find the sum of all numbers in a list"
   ]
  },
  {
   "cell_type": "code",
   "execution_count": 57,
   "id": "0cd8d961",
   "metadata": {},
   "outputs": [
    {
     "name": "stdout",
     "output_type": "stream",
     "text": [
      "15\n"
     ]
    }
   ],
   "source": [
    "def sum_of_numbers(lst):\n",
    "    result =0\n",
    "    for sm in lst:\n",
    "        result +=sm\n",
    "    return result\n",
    "d =[1,2,3,4,3,2]\n",
    "print(sum_of_numbers(d))\n",
    "        "
   ]
  },
  {
   "cell_type": "markdown",
   "id": "61b29dae",
   "metadata": {},
   "source": [
    "11. Write a program to find the common elements between two lists"
   ]
  },
  {
   "cell_type": "code",
   "execution_count": 28,
   "id": "18a2f1eb",
   "metadata": {},
   "outputs": [
    {
     "name": "stdout",
     "output_type": "stream",
     "text": [
      "common element are: [4, 3, 6] "
     ]
    }
   ],
   "source": [
    "def common_elements(lst1,lst2):\n",
    "    lt =[]\n",
    "    for num1 in lst1:\n",
    "        for num2 in lst2:\n",
    "            if num2 in lst1:\n",
    "                lt.append(num2)\n",
    "        break\n",
    "    return \"common element are:\",lt \n",
    "            \n",
    "lst1 =[3,4,5,6]\n",
    "lst2 =[7,8,9,4,3,6]\n",
    "result=(common_elements(lst1,lst2))\n",
    "for i in result:\n",
    "    print(i,end=\" \")\n"
   ]
  },
  {
   "cell_type": "markdown",
   "id": "273ee00b",
   "metadata": {},
   "source": [
    "12. Implement a function to check if a given string is an anagram of another string."
   ]
  },
  {
   "cell_type": "code",
   "execution_count": 84,
   "id": "fe040666",
   "metadata": {},
   "outputs": [
    {
     "name": "stdout",
     "output_type": "stream",
     "text": [
      "listen and silent are anagrams.\n"
     ]
    }
   ],
   "source": [
    "def is_anagram(str1, str2):\n",
    "    # Remove whitespace and convert to lowercase\n",
    "    str1 = str1.replace(\" \", \"\").lower()\n",
    "    str2 = str2.replace(\" \", \"\").lower()\n",
    "\n",
    "    # Check if the lengths of the strings are equal\n",
    "    if len(str1) != len(str2):\n",
    "        return False\n",
    "\n",
    "    # Count the occurrence of each character in both strings\n",
    "    char_count = {}\n",
    "\n",
    "    for char in str1:\n",
    "        if char in char_count:\n",
    "            char_count[char] += 1\n",
    "        else:\n",
    "            char_count[char] = 1\n",
    "\n",
    "    for char in str2:\n",
    "        if char in char_count:\n",
    "            char_count[char] -= 1\n",
    "        else:\n",
    "            return False\n",
    "\n",
    "    # Check if all character counts are zero\n",
    "    for count in char_count.values():\n",
    "        if count != 0:\n",
    "            return False\n",
    "\n",
    "    return True\n",
    "\n",
    "\n",
    "string1 = \"listen\"\n",
    "string2 = \"silent\"\n",
    "if is_anagram(string1, string2):\n",
    "    print(f\"{string1} and {string2} are anagrams.\")\n",
    "else:\n",
    "    print(f\"{string1} and {string2} are not anagrams.\")\n",
    "\n"
   ]
  },
  {
   "cell_type": "markdown",
   "id": "a4ab2970",
   "metadata": {},
   "source": [
    "13. Write a Python program to generate all permutations of a given string"
   ]
  },
  {
   "cell_type": "code",
   "execution_count": 15,
   "id": "04aa9812",
   "metadata": {},
   "outputs": [
    {
     "name": "stdout",
     "output_type": "stream",
     "text": [
      "Enter a string: sai\n",
      "Permutations:\n",
      "sai\n",
      "sia\n",
      "asi\n",
      "ais\n",
      "isa\n",
      "ias\n"
     ]
    }
   ],
   "source": [
    "def permutations(string):\n",
    "    if len(string) == 0:\n",
    "        return ['']\n",
    "\n",
    "    perms = []\n",
    "    for i in range(len(string)):\n",
    "        char = string[i]\n",
    "        remaining_chars = string[:i] + string[i+1:]\n",
    "        for perm in permutations(remaining_chars):\n",
    "            perms.append(char + perm)\n",
    "\n",
    "    return perms\n",
    "\n",
    "input_string = input(\"Enter a string: \")\n",
    "result = permutations(input_string)\n",
    "print(\"Permutations:\")\n",
    "for perm in result:\n",
    "    print(perm)\n",
    "\n"
   ]
  },
  {
   "cell_type": "markdown",
   "id": "69dd38b5",
   "metadata": {},
   "source": [
    "14. Implement a function to calculate the Fibonacci sequence up to a given number of terms"
   ]
  },
  {
   "cell_type": "code",
   "execution_count": 22,
   "id": "a6d25646",
   "metadata": {},
   "outputs": [
    {
     "name": "stdout",
     "output_type": "stream",
     "text": [
      "Enter a number: 4\n",
      "Fibonacci Sequence:\n",
      "[0, 1, 1, 2, 3]\n"
     ]
    }
   ],
   "source": [
    "def fibonacci(n):\n",
    "    # Check if n is less than or equal to 0\n",
    "    if n <= 0:\n",
    "        return []\n",
    "\n",
    "    fib_seq = [0, 1]  # Initialize the Fibonacci sequence with the first two numbers\n",
    "\n",
    "    # Generate the Fibonacci sequence\n",
    "    while fib_seq[-1] + fib_seq[-2] <= n:\n",
    "        next_num = fib_seq[-1] + fib_seq[-2]\n",
    "        fib_seq.append(next_num)\n",
    "\n",
    "    return fib_seq\n",
    "\n",
    "# Test the function\n",
    "input_num = int(input(\"Enter a number: \"))\n",
    "result = fibonacci(input_num)\n",
    "print(\"Fibonacci Sequence:\")\n",
    "print(result)\n"
   ]
  },
  {
   "cell_type": "markdown",
   "id": "aabf5363",
   "metadata": {},
   "source": [
    "15. Write a program to find the median of a list of numbers."
   ]
  },
  {
   "cell_type": "code",
   "execution_count": 31,
   "id": "22432a10",
   "metadata": {},
   "outputs": [
    {
     "name": "stdout",
     "output_type": "stream",
     "text": [
      "5.0\n"
     ]
    }
   ],
   "source": [
    "numbers=[2,3,4,6,7,8]\n",
    "numbers.sort()\n",
    "n =len(numbers)\n",
    "\n",
    "if  n%2 ==0:\n",
    "    mid1 = numbers[n//2-1]\n",
    "    mid2 = numbers[n //2]\n",
    "    median =(mid1+mid2)/2\n",
    "else:\n",
    "    medain =numbers[n//2]\n",
    "print(median)"
   ]
  },
  {
   "cell_type": "code",
   "execution_count": 36,
   "id": "4ba421f2",
   "metadata": {},
   "outputs": [
    {
     "name": "stdout",
     "output_type": "stream",
     "text": [
      "Enter a list of numbers (space-separated): 1 2 3 4 5 6 7 8 9 10\n",
      "Median: 5.5\n"
     ]
    }
   ],
   "source": [
    "def find_median(numbers):\n",
    "    numbers.sort()  # Sort the list of numbers in ascending order\n",
    "    n = len(numbers)\n",
    "\n",
    "    # Check if the number of elements is even or odd\n",
    "    if n % 2 == 0:\n",
    "        # If the number of elements is even, average the middle two elements\n",
    "        mid1 = numbers[n // 2 - 1]\n",
    "        mid2 = numbers[n // 2]\n",
    "        median = (mid1 + mid2) / 2\n",
    "    else:\n",
    "        # If the number of elements is odd, take the middle element as the median\n",
    "        median = numbers[n // 2]\n",
    "\n",
    "    return median\n",
    "\n",
    "# Test the function\n",
    "input_numbers = input(\"Enter a list of numbers (space-separated): \").split()\n",
    "numbers = [float(num) for num in input_numbers]\n",
    "result = find_median(numbers)\n",
    "print(\"Median:\", result)\n"
   ]
  },
  {
   "cell_type": "markdown",
   "id": "d5dc4b0e",
   "metadata": {},
   "source": [
    "16. Implement a function to check if a given list is sorted in non-decreasing order."
   ]
  },
  {
   "cell_type": "code",
   "execution_count": 38,
   "id": "41933600",
   "metadata": {},
   "outputs": [
    {
     "name": "stdout",
     "output_type": "stream",
     "text": [
      "the list is sorted in non-decreasing order\n"
     ]
    }
   ],
   "source": [
    "def is_sorted(lst):\n",
    "    for i in range(len(lst)-1):\n",
    "        if lst[i]>lst[i+1]:\n",
    "            return False\n",
    "    return True\n",
    "\n",
    "t =[99,22,11,1]\n",
    "numbers =[float(num) for num in input_numbers]\n",
    "result =is_sorted(numbers)\n",
    "if result:\n",
    "    print(\"the list is sorted in non-decreasing order\")\n",
    "else:\n",
    "    print(\"the list is not in non-decrasing order\")"
   ]
  },
  {
   "cell_type": "markdown",
   "id": "6d4a8949",
   "metadata": {},
   "source": [
    "17. Write a Python program to find the intersection of two lists."
   ]
  },
  {
   "cell_type": "code",
   "execution_count": 20,
   "id": "6a99f282",
   "metadata": {},
   "outputs": [
    {
     "name": "stdout",
     "output_type": "stream",
     "text": [
      "[4, 6]\n"
     ]
    }
   ],
   "source": [
    "lst1=[3,4,5,6]\n",
    "lst2=[6,4,7,8]\n",
    "lt=[]\n",
    "for i in lst1:\n",
    "        if i in lst2:\n",
    "            lt.append(i)\n",
    "print(lt)\n",
    "            \n",
    "            "
   ]
  },
  {
   "cell_type": "markdown",
   "id": "524ca047",
   "metadata": {},
   "source": [
    "18. Implement a function to find the maximum subarray sum in a given list"
   ]
  },
  {
   "cell_type": "code",
   "execution_count": 40,
   "id": "f055376b",
   "metadata": {},
   "outputs": [
    {
     "name": "stdout",
     "output_type": "stream",
     "text": [
      "Maximum Subarray: [3, 4, 5, 6, 7, 8]\n",
      "Maximum Subarray Sum: 33\n"
     ]
    }
   ],
   "source": [
    "def max_subarray_sum(lst):\n",
    "    max_sum = float('-inf')\n",
    "    current_sum = 0\n",
    "    start = 0\n",
    "    end = 0\n",
    "    subarray_start = 0\n",
    "\n",
    "    for i, num in enumerate(lst):\n",
    "        current_sum += num\n",
    "        if current_sum > max_sum:\n",
    "            max_sum = current_sum\n",
    "            start = subarray_start\n",
    "            end = i\n",
    "        if current_sum < 0:\n",
    "            current_sum = 0\n",
    "            subarray_start = i + 1\n",
    "\n",
    "    max_subarray = lst[start:end + 1]\n",
    "    return max_subarray, max_sum\n",
    "\n",
    "\n",
    "lst = [3,4,5,6,7,8]\n",
    "max_subarray, max_sum = max_subarray_sum(lst)\n",
    "print(\"Maximum Subarray:\", max_subarray)\n",
    "print(\"Maximum Subarray Sum:\", max_sum)\n"
   ]
  },
  {
   "cell_type": "markdown",
   "id": "84cf12ad",
   "metadata": {},
   "source": [
    "19. Write a program to remove all vowels from a given string"
   ]
  },
  {
   "cell_type": "code",
   "execution_count": 44,
   "id": "c6814822",
   "metadata": {},
   "outputs": [
    {
     "name": "stdout",
     "output_type": "stream",
     "text": [
      "sai\n",
      "s "
     ]
    }
   ],
   "source": [
    "st= input()\n",
    "ovewls =\"aeiouAEIOU\"\n",
    "for vl in st:\n",
    "    if vl not in ovewls:\n",
    "        print(vl,end=\" \")"
   ]
  },
  {
   "cell_type": "markdown",
   "id": "8125b51f",
   "metadata": {},
   "source": [
    "20. Implement a function to reverse the order of words in a given sentence"
   ]
  },
  {
   "cell_type": "code",
   "execution_count": 32,
   "id": "7a3f674c",
   "metadata": {},
   "outputs": [
    {
     "name": "stdout",
     "output_type": "stream",
     "text": [
      "kiran sai am i Hello,hii\n"
     ]
    }
   ],
   "source": [
    "def reverse_sentence(sentence):\n",
    "    words = []\n",
    "    word = \"\"\n",
    "    reversed_sentence = \"\"\n",
    "\n",
    "    # Extract individual words from the sentence\n",
    "    for char in sentence:\n",
    "        if char != \" \":\n",
    "            word += char\n",
    "        else:\n",
    "            words.append(word)\n",
    "            word = \"\"\n",
    "    words.append(word)  # Append the last word\n",
    "\n",
    "    # Reverse the order of words\n",
    "    for i in range(len(words) - 1, -1, -1):\n",
    "        reversed_sentence += words[i] + \" \"\n",
    "\n",
    "    return reversed_sentence.strip()  # Remove leading/trailing whitespace\n",
    "\n",
    "\n",
    "# Example usage\n",
    "sentence = \"Hello,hii i am sai kiran\"\n",
    "reversed_sentence = reverse_sentence(sentence)\n",
    "print(reversed_sentence)\n"
   ]
  },
  {
   "cell_type": "markdown",
   "id": "bdfbf1ee",
   "metadata": {},
   "source": [
    "21. Write a Python program to check if two strings are anagrams of each other"
   ]
  },
  {
   "cell_type": "code",
   "execution_count": 86,
   "id": "43162dd0",
   "metadata": {},
   "outputs": [
    {
     "name": "stdout",
     "output_type": "stream",
     "text": [
      "Enter the first string: sAi\n",
      "Enter the second string: sai\n",
      "It is an Anagram\n"
     ]
    }
   ],
   "source": [
    "def anagram(st1, st2):\n",
    "    # Remove whitespace and convert to lowercase\n",
    "    st1 = st1.replace(\" \", \"\").lower()\n",
    "    st2 = st2.replace(\" \", \"\").lower()\n",
    "\n",
    "    # Check if the lengths of the strings are equal\n",
    "    if len(st1) != len(st2):\n",
    "        return \"It is not an Anagram\"\n",
    "\n",
    "    # Convert strings to lists for easier manipulation\n",
    "    list1 = list(st1)\n",
    "    list2 = list(st2)\n",
    "\n",
    "    # Sort the lists\n",
    "    list1.sort()\n",
    "    list2.sort()\n",
    "\n",
    "    # Check if the sorted lists are equal\n",
    "    if list1 == list2:\n",
    "        return \"It is an Anagram\"\n",
    "    else:\n",
    "        return \"It is not an Anagram\"\n",
    "\n",
    "\n",
    "# Example usage\n",
    "n = input(\"Enter the first string: \")\n",
    "m = input(\"Enter the second string: \")\n",
    "print(anagram(n, m))\n"
   ]
  },
  {
   "cell_type": "markdown",
   "id": "57874a86",
   "metadata": {},
   "source": [
    "22. Implement a function to find the first non-repeating character in a string"
   ]
  },
  {
   "cell_type": "code",
   "execution_count": 94,
   "id": "5bcd2176",
   "metadata": {},
   "outputs": [
    {
     "name": "stdout",
     "output_type": "stream",
     "text": [
      "The first non-repeating character is: c\n"
     ]
    }
   ],
   "source": [
    "def find_first_non_repeating_char(string):\n",
    "    char_count = {}\n",
    "\n",
    "    # Count the occurrence of each character\n",
    "    for char in string:\n",
    "        if char in char_count:\n",
    "            char_count[char] += 1\n",
    "        else:\n",
    "            char_count[char] = 1\n",
    "\n",
    "    # Find the first non-repeating character\n",
    "    for char in string:\n",
    "        if char_count[char] == 1:\n",
    "            return char\n",
    "\n",
    "    return None  # Return None if no non-repeating character is found\n",
    "\n",
    "\n",
    "input_string = \"abracadabra\"\n",
    "first_non_repeating_char = find_first_non_repeating_char(input_string)\n",
    "\n",
    "if first_non_repeating_char is not None:\n",
    "    print(\"The first non-repeating character is:\", first_non_repeating_char)\n",
    "else:\n",
    "    print(\"No non-repeating character found.\")"
   ]
  },
  {
   "cell_type": "markdown",
   "id": "3bef9d56",
   "metadata": {},
   "source": [
    "23. Write a program to find the prime factors of a given number."
   ]
  },
  {
   "cell_type": "code",
   "execution_count": 33,
   "id": "16411338",
   "metadata": {},
   "outputs": [
    {
     "name": "stdout",
     "output_type": "stream",
     "text": [
      "Enter a number: 24\n",
      "Prime factors of 24 are: [2, 2, 2, 3]\n"
     ]
    }
   ],
   "source": [
    "def find_prime_factors(number):\n",
    "    prime_factors = []\n",
    "    divisor = 2\n",
    "\n",
    "    while divisor <= number:\n",
    "        if number % divisor == 0:\n",
    "            prime_factors.append(divisor)\n",
    "            number //= divisor\n",
    "        else:\n",
    "            divisor += 1\n",
    "\n",
    "    return prime_factors\n",
    "\n",
    "\n",
    "# Example usage\n",
    "num = int(input(\"Enter a number: \"))\n",
    "factors = find_prime_factors(num)\n",
    "print(\"Prime factors of\", num, \"are:\", factors)\n"
   ]
  },
  {
   "cell_type": "markdown",
   "id": "62c65d4b",
   "metadata": {},
   "source": [
    "24. Implement a function to check if a given number is a power of two"
   ]
  },
  {
   "cell_type": "code",
   "execution_count": 45,
   "id": "01ec0785",
   "metadata": {},
   "outputs": [
    {
     "name": "stdout",
     "output_type": "stream",
     "text": [
      "8\n",
      "True\n"
     ]
    }
   ],
   "source": [
    "def is_power_of_two(number):\n",
    "    if number <= 0:\n",
    "        return False\n",
    "    return number & (number - 1) == 0\n",
    "\n",
    "rs =int(input())\n",
    "print(is_power_of_two(rs))"
   ]
  },
  {
   "cell_type": "markdown",
   "id": "ef3cbda1",
   "metadata": {},
   "source": [
    "25. Write a Python program to merge two sorted lists into a single sorted list"
   ]
  },
  {
   "cell_type": "code",
   "execution_count": null,
   "id": "de532bf7",
   "metadata": {},
   "outputs": [],
   "source": [
    "def to_merge(lst1,lst2):\n",
    "    merged_list =[]\n",
    "    i = j =0\n",
    "    \n",
    "    while i < len(lst1) and j < len(lst2):\n",
    "        if lst1[i] <lst2[j]:\n",
    "            merged_list.append(lst1[i])\n",
    "            i +=1\n",
    "        else:\n",
    "            merged_list.append(lst2[j])\n",
    "            j +=1\n",
    "            \n",
    "    while i< len(lst1):#to add remaining elements from list 1\n",
    "        merged_list.append(lst1[i])\n",
    "        i +=1\n",
    "        \n",
    "    while j < len(lst2):#to add remaining elements from list 2\n",
    "        merged_list.append(lst2[j])\n",
    "        j +=1    \n",
    "    return merged_list\n",
    "\n",
    "#driver code\n",
    "print(to_merge([1, 4, 7, 9],[2, 3, 6, 8]))   \n",
    "            "
   ]
  },
  {
   "cell_type": "markdown",
   "id": "54d84be1",
   "metadata": {},
   "source": [
    " 26. Implement a function to find the mode of a list of numbers."
   ]
  },
  {
   "cell_type": "code",
   "execution_count": 69,
   "id": "c7b96008",
   "metadata": {},
   "outputs": [
    {
     "name": "stdout",
     "output_type": "stream",
     "text": [
      "[2]\n"
     ]
    }
   ],
   "source": [
    "def find_mode(numbers):\n",
    "    frequency ={}\n",
    "    max_count =0\n",
    "    modes =[]\n",
    "    \n",
    "    for num in numbers:\n",
    "        if num in frequency:\n",
    "            frequency[num]+=1\n",
    "        else:\n",
    "            frequency[num] =1\n",
    "            \n",
    "            \n",
    "        if frequency[num]>max_count:\n",
    "            max_count =frequency[num]#checking max occurence of an number\n",
    "            \n",
    "            \n",
    "    for num, count in frequency.items():#counting occurence of items in dict.\n",
    "        if count == max_count:\n",
    "            modes.append(num)\n",
    "    return modes\n",
    "\n",
    "\n",
    "print(find_mode([1,2,3,2]))\n"
   ]
  },
  {
   "cell_type": "markdown",
   "id": "26290481",
   "metadata": {},
   "source": [
    "27. Write a program to find the greatest common divisor (GCD) of two numbers"
   ]
  },
  {
   "cell_type": "code",
   "execution_count": 3,
   "id": "1d8a2ce3",
   "metadata": {},
   "outputs": [
    {
     "name": "stdout",
     "output_type": "stream",
     "text": [
      "GCD: 12\n"
     ]
    }
   ],
   "source": [
    "def gcd(a, b):\n",
    "    while b != 0:\n",
    "        r = a % b\n",
    "        a = b\n",
    "        b = r\n",
    "    return a\n",
    "\n",
    "\n",
    "a = 24\n",
    "b = 36\n",
    "result = gcd(a, b)\n",
    "print(\"GCD:\", result)\n"
   ]
  },
  {
   "cell_type": "markdown",
   "id": "f9692f10",
   "metadata": {},
   "source": [
    "28. Implement a function to calculate the square root of a given number."
   ]
  },
  {
   "cell_type": "code",
   "execution_count": 72,
   "id": "eebcf3dd",
   "metadata": {},
   "outputs": [
    {
     "name": "stdout",
     "output_type": "stream",
     "text": [
      "64\n"
     ]
    }
   ],
   "source": [
    "def sqr(number):\n",
    "    square = number**2\n",
    "    return square\n",
    "print(sqr(8))"
   ]
  },
  {
   "cell_type": "markdown",
   "id": "012c2c39",
   "metadata": {},
   "source": [
    "29. Write a Python program to check if a given string is a valid palindrome ignoring non-alphanumeric characters"
   ]
  },
  {
   "cell_type": "code",
   "execution_count": 82,
   "id": "e8bc9e3b",
   "metadata": {},
   "outputs": [
    {
     "name": "stdout",
     "output_type": "stream",
     "text": [
      "is palidrome: True\n"
     ]
    }
   ],
   "source": [
    "def is_valid_palidrome(string):\n",
    "    string= string.lower()\n",
    "    \n",
    "    start =0\n",
    "    end =len(string) -1\n",
    "    while start < end:\n",
    "        while start < end and not  string[start].isalnum():\n",
    "            start +=1\n",
    "        while start <end  and not string[end].isalnum():\n",
    "            end -=1\n",
    "        if string[start] != string[end]:\n",
    "            return False\n",
    "    \n",
    "        start +=1\n",
    "        end -= 1\n",
    "    return True\n",
    "\n",
    "stirng =\"Ksaikirn129@gmail.com//k\"\n",
    "pd =is_valid_palidrome(string)\n",
    "print(\"is palidrome:\",pd)\n",
    "\n",
    "\n",
    "\n",
    "    "
   ]
  },
  {
   "cell_type": "markdown",
   "id": "ca9ca45d",
   "metadata": {},
   "source": [
    "30. Implement a function to find the minimum element in a rotated sorted list"
   ]
  },
  {
   "cell_type": "code",
   "execution_count": 93,
   "id": "dfba36e7",
   "metadata": {},
   "outputs": [
    {
     "name": "stdout",
     "output_type": "stream",
     "text": [
      "2\n"
     ]
    }
   ],
   "source": [
    "def find_min(lst):\n",
    "    left =0\n",
    "    right =len(lst)-1\n",
    "    while left < right:\n",
    "        mid =left +(right-left)//2\n",
    "        if lst[mid]>lst[right]:\n",
    "            left =mid +1\n",
    "        else:\n",
    "            right =mid\n",
    "            \n",
    "    return lst[left]\n",
    "rt_lst=[4,3,7,9,8,6,3,2]\n",
    "min_element =find_min(rt_lst)\n",
    "print(min_element)"
   ]
  },
  {
   "cell_type": "markdown",
   "id": "7473d2ea",
   "metadata": {},
   "source": [
    "31. Write a program to find the sum of all even numbers in a list."
   ]
  },
  {
   "cell_type": "code",
   "execution_count": 111,
   "id": "d2807ca6",
   "metadata": {},
   "outputs": [
    {
     "name": "stdout",
     "output_type": "stream",
     "text": [
      "sum of all even numbers is: 20\n"
     ]
    }
   ],
   "source": [
    "d =[2,3,4,5,6,7,8]\n",
    "even_sum=0\n",
    "for i in d:\n",
    "    if i%2 ==0:\n",
    "        even_sum +=i\n",
    "print(\"sum of all even numbers is:\",even_sum)  "
   ]
  },
  {
   "cell_type": "markdown",
   "id": "e341531f",
   "metadata": {},
   "source": [
    "32. Implement a function to calculate the power of a number using recursion"
   ]
  },
  {
   "cell_type": "code",
   "execution_count": 121,
   "id": "6a9e4fd2",
   "metadata": {},
   "outputs": [
    {
     "name": "stdout",
     "output_type": "stream",
     "text": [
      "Result: 8\n"
     ]
    }
   ],
   "source": [
    "def power(base,exponent):\n",
    "    if exponent ==0:\n",
    "        return 1\n",
    "    elif exponent <0:\n",
    "        return 1/power(base,-exponent)\n",
    "    else:\n",
    "        return base * power(base,exponent-1)\n",
    "    \n",
    "base = 2\n",
    "exponent = 3\n",
    "result = power(base, exponent)\n",
    "print(\"Result:\", result)    "
   ]
  },
  {
   "cell_type": "markdown",
   "id": "7363d14f",
   "metadata": {},
   "source": [
    "33. Write a Python program to remove duplicates from a list while preserving the order."
   ]
  },
  {
   "cell_type": "code",
   "execution_count": 125,
   "id": "ba3f0fc8",
   "metadata": {},
   "outputs": [
    {
     "name": "stdout",
     "output_type": "stream",
     "text": [
      "List with duplicates removed: [1, 2, 3, 4, 5, 6]\n"
     ]
    }
   ],
   "source": [
    "def remove_duplicates(lst):\n",
    "    seen = set()\n",
    "    unique_list = []\n",
    "\n",
    "    for item in lst:\n",
    "        if item not in seen:\n",
    "            seen.add(item)\n",
    "            unique_list.append(item)\n",
    "\n",
    "    return unique_list\n",
    "\n",
    "# Example usage:\n",
    "my_list = [1, 2, 3, 2, 4, 3, 5, 6, 4]\n",
    "result = remove_duplicates(my_list)\n",
    "print(\"List with duplicates removed:\", result)\n"
   ]
  },
  {
   "cell_type": "markdown",
   "id": "9a9e777e",
   "metadata": {},
   "source": [
    "34. Implement a function to find the longest common prefix among a list of strings"
   ]
  },
  {
   "cell_type": "code",
   "execution_count": 5,
   "id": "1ccd1bb0",
   "metadata": {},
   "outputs": [
    {
     "name": "stdout",
     "output_type": "stream",
     "text": [
      "fl\n"
     ]
    }
   ],
   "source": [
    "def longest_common_prefix(strs):\n",
    "    if not strs:\n",
    "        return \"\"\n",
    "\n",
    "    # Find the string with the minimum length\n",
    "    min_length = min(len(s) for s in strs)\n",
    "\n",
    "    # Iterate over each character up to the minimum length\n",
    "    for i in range(min_length):\n",
    "        # Check if all characters at position i are the same\n",
    "        if any(s[i] != strs[0][i] for s in strs):\n",
    "            # If not, return the common prefix found so far\n",
    "            return strs[0][:i]\n",
    "\n",
    "    # If all characters match up to the minimum length, return the complete common prefix\n",
    "    return strs[0][:min_length]\n",
    "\n",
    "\n",
    "strings = [\"flower\", \"flow\", \"flight\"]\n",
    "common_prefix = longest_common_prefix(strings)\n",
    "print(common_prefix)  # Output: \"fl\"\n"
   ]
  },
  {
   "cell_type": "markdown",
   "id": "1b377e02",
   "metadata": {},
   "source": [
    "35. Write a program to check if a given number is a perfect square"
   ]
  },
  {
   "cell_type": "code",
   "execution_count": 12,
   "id": "bee13fca",
   "metadata": {},
   "outputs": [
    {
     "name": "stdout",
     "output_type": "stream",
     "text": [
      "2\n",
      "2 is not a perfect square.\n"
     ]
    }
   ],
   "source": [
    "def is_perfect_square(num):\n",
    "    if num < 0:\n",
    "        return False\n",
    "\n",
    "    # Using binary search to find the square root\n",
    "    left = 0\n",
    "    right = num\n",
    "\n",
    "    while left <= right:\n",
    "        mid = left + (right - left) // 2\n",
    "        square = mid * mid\n",
    "\n",
    "        if square == num:\n",
    "            return True\n",
    "        elif square < num:\n",
    "            left = mid + 1\n",
    "        else:\n",
    "            right = mid - 1\n",
    "\n",
    "    return False\n",
    "\n",
    "\n",
    "number = int(input())\n",
    "if is_perfect_square(number):\n",
    "    print(f\"{number} is a perfect square.\")\n",
    "else:\n",
    "    print(f\"{number} is not a perfect square.\")\n"
   ]
  },
  {
   "cell_type": "code",
   "execution_count": 18,
   "id": "6dce957b",
   "metadata": {},
   "outputs": [
    {
     "name": "stdout",
     "output_type": "stream",
     "text": [
      "True\n"
     ]
    }
   ],
   "source": [
    "def perfect_square(num):\n",
    "    return num >= 0 and int(num ** 0.5) ** 2 == num\n",
    "print(perfect_square(9))"
   ]
  },
  {
   "cell_type": "markdown",
   "id": "22e37b3e",
   "metadata": {},
   "source": [
    "36. Implement a function to calculate the product of all elements in a list."
   ]
  },
  {
   "cell_type": "code",
   "execution_count": 23,
   "id": "047c5c66",
   "metadata": {},
   "outputs": [
    {
     "name": "stdout",
     "output_type": "stream",
     "text": [
      "product of all elements in list: [4, 9, 16, 25, 36, 49, 64]\n"
     ]
    }
   ],
   "source": [
    "def product(lst):\n",
    "    lt=[]\n",
    "    s=0\n",
    "    for i in lst:\n",
    "        s = i*i\n",
    "        lt.append(s)\n",
    "    return lt\n",
    "l =[2,3,4,5,6,7,8]\n",
    "result =product(l)\n",
    "print(\"product of all elements in list:\",result)   "
   ]
  },
  {
   "cell_type": "markdown",
   "id": "3f958303",
   "metadata": {},
   "source": [
    "37. Write a Python program to reverse the order of words in a sentence while preserving the\n",
    "word order"
   ]
  },
  {
   "cell_type": "code",
   "execution_count": 30,
   "id": "cbbed605",
   "metadata": {},
   "outputs": [
    {
     "name": "stdout",
     "output_type": "stream",
     "text": [
      "you? are How world! Hello,\n"
     ]
    }
   ],
   "source": [
    "def reverse_words(sentence):\n",
    "    words = sentence.split()  # Split the sentence into individual words\n",
    "    reversed_words = words[::-1]  # Reverse the order of the words\n",
    "    reversed_sentence = ' '.join(reversed_words)  # Join the reversed words into a sentence\n",
    "\n",
    "    return reversed_sentence\n",
    "sentence = \"Hello, world! How are you?\"\n",
    "reversed_sentence = reverse_words(sentence)\n",
    "print(reversed_sentence)\n"
   ]
  },
  {
   "cell_type": "markdown",
   "id": "7e5cb432",
   "metadata": {},
   "source": [
    "38. Implement a function to find the missing number in a given list of consecutive numbers"
   ]
  },
  {
   "cell_type": "code",
   "execution_count": 35,
   "id": "a5f0bcc8",
   "metadata": {},
   "outputs": [
    {
     "name": "stdout",
     "output_type": "stream",
     "text": [
      "Missing number: 4\n"
     ]
    }
   ],
   "source": [
    "def find_missing_number(nums):\n",
    "    n = len(nums) + 1  # Total number of elements including the missing one\n",
    "    expected_sum = n * (n + 1) // 2  # Sum of consecutive numbers from 1 to n\n",
    "\n",
    "    # Calculate the actual sum of the given list of numbers\n",
    "    actual_sum = 0\n",
    "    for num in nums:\n",
    "        actual_sum += num\n",
    "\n",
    "    # The difference between the expected sum and the actual sum is the missing number\n",
    "    missing_number = expected_sum - actual_sum\n",
    "    return missing_number\n",
    "\n",
    "\n",
    "numbers = [1, 2, 3, 5, 6, 7, 8]\n",
    "missing_number = find_missing_number(numbers)\n",
    "print(\"Missing number:\", missing_number)\n"
   ]
  },
  {
   "cell_type": "markdown",
   "id": "b4e40961",
   "metadata": {},
   "source": [
    "39. Write a program to find the sum of digits of a given number."
   ]
  },
  {
   "cell_type": "code",
   "execution_count": 37,
   "id": "32ef8d14",
   "metadata": {},
   "outputs": [
    {
     "name": "stdout",
     "output_type": "stream",
     "text": [
      "Sum of digits: 15\n"
     ]
    }
   ],
   "source": [
    "def sum_of_digits(number):\n",
    "    # Convert the number to a string\n",
    "    num_str = str(number)\n",
    "\n",
    "    # Initialize sum to 0\n",
    "    digit_sum = 0\n",
    "\n",
    "    # Iterate over each character in the string\n",
    "    for char in num_str:\n",
    "        # Convert the character back to an integer and add it to the sum\n",
    "        digit_sum += int(char)\n",
    "\n",
    "    return digit_sum\n",
    "\n",
    "number = 12345\n",
    "digit_sum = sum_of_digits(number)\n",
    "print(\"Sum of digits:\", digit_sum)\n"
   ]
  },
  {
   "cell_type": "markdown",
   "id": "a1232f92",
   "metadata": {},
   "source": [
    "40. Implement a function to check if a given string is a valid palindrome considering case\n",
    "sensitivity"
   ]
  },
  {
   "cell_type": "code",
   "execution_count": 38,
   "id": "4b1791e2",
   "metadata": {},
   "outputs": [
    {
     "name": "stdout",
     "output_type": "stream",
     "text": [
      "The string is a valid palindrome.\n"
     ]
    }
   ],
   "source": [
    "def is_valid_palindrome(s):\n",
    "    # Remove non-alphanumeric characters and convert to lowercase\n",
    "    s = ''.join(char.lower() for char in s if char.isalnum())\n",
    "\n",
    "    # Check if the string is equal to its reverse\n",
    "    return s == s[::-1]\n",
    "\n",
    "string = \"A man, a plan, a canal: Panama\"\n",
    "if is_valid_palindrome(string):\n",
    "    print(\"The string is a valid palindrome.\")\n",
    "else:\n",
    "    print(\"The string is not a valid palindrome.\")\n"
   ]
  },
  {
   "cell_type": "markdown",
   "id": "47120181",
   "metadata": {},
   "source": [
    "41. Write a Python program to find the smallest missing positive integer in a list"
   ]
  },
  {
   "cell_type": "code",
   "execution_count": 5,
   "id": "174ac278",
   "metadata": {},
   "outputs": [
    {
     "name": "stdout",
     "output_type": "stream",
     "text": [
      "The smallest missing positive integer is: 2\n"
     ]
    }
   ],
   "source": [
    "def find_smallest_missing_positive(nums):\n",
    "    # Remove negative numbers and zeros from the list\n",
    "    nums = [num for num in nums if num > 0]\n",
    "\n",
    "    # If the list is empty, the smallest missing positive integer is 1\n",
    "    if not nums:\n",
    "        return 1\n",
    "\n",
    "    # Sort the list\n",
    "    nums.sort()\n",
    "\n",
    "    # Check if 1 is missing\n",
    "    if nums[0] != 1:\n",
    "        return 1\n",
    "\n",
    "    # Iterate through the sorted list and find the smallest missing positive integer\n",
    "    for i in range(len(nums) - 1):\n",
    "        if nums[i + 1] - nums[i] > 1:\n",
    "            return nums[i] + 1\n",
    "\n",
    "    # If no missing positive integer is found between the elements, return the next integer\n",
    "    return nums[-1] + 1\n",
    "\n",
    "# Test the function\n",
    "numbers = [3, 4, -1, 1]\n",
    "result = find_smallest_missing_positive(numbers)\n",
    "print(\"The smallest missing positive integer is:\", result)\n"
   ]
  },
  {
   "cell_type": "markdown",
   "id": "c502b850",
   "metadata": {},
   "source": [
    "42. Implement a function to find the longest palindrome substring in a given string"
   ]
  },
  {
   "cell_type": "code",
   "execution_count": 9,
   "id": "6a9f8eeb",
   "metadata": {},
   "outputs": [
    {
     "name": "stdout",
     "output_type": "stream",
     "text": [
      "The longest palindrome substring is: bab\n"
     ]
    }
   ],
   "source": [
    "def longest_palindrome(s):\n",
    "    longest = \"\"\n",
    "\n",
    "    for i in range(len(s)):\n",
    "        # Find odd length palindromes with s[i] as the center\n",
    "        left = right = i\n",
    "        while left >= 0 and right < len(s) and s[left] == s[right]:\n",
    "            left -= 1\n",
    "            right += 1\n",
    "        if right - left - 1 > len(longest):\n",
    "            longest = s[left + 1:right]\n",
    "\n",
    "        # Find even length palindromes with s[i] and s[i+1] as the center\n",
    "        left = i\n",
    "        right = i + 1\n",
    "        while left >= 0 and right < len(s) and s[left] == s[right]:\n",
    "            left -= 1\n",
    "            right += 1\n",
    "        if right - left - 1 > len(longest):\n",
    "            longest = s[left + 1:right]\n",
    "\n",
    "    return longest\n",
    "\n",
    "# Test the function\n",
    "string = \"babad\"\n",
    "result = longest_palindrome(string)\n",
    "print(\"The longest palindrome substring is:\", result)\n"
   ]
  },
  {
   "cell_type": "markdown",
   "id": "fc3034bb",
   "metadata": {},
   "source": [
    "43. Write a program to find the number of occurrences of a given element in a list"
   ]
  },
  {
   "cell_type": "code",
   "execution_count": 41,
   "id": "fd19a859",
   "metadata": {},
   "outputs": [
    {
     "name": "stdout",
     "output_type": "stream",
     "text": [
      "Number of occurrences: 4\n"
     ]
    }
   ],
   "source": [
    "def count_occurrences(lst, target):\n",
    "    count = 0\n",
    "\n",
    "    for element in lst:\n",
    "        if element == target:\n",
    "            count += 1\n",
    "\n",
    "    return count\n",
    "\n",
    "numbers = [1, 2, 3, 4, 2, 2, 5, 2]\n",
    "target_number = 2\n",
    "occurrences = count_occurrences(numbers, target_number)\n",
    "print(\"Number of occurrences:\", occurrences)\n",
    "\n"
   ]
  },
  {
   "cell_type": "markdown",
   "id": "b73ef95f",
   "metadata": {},
   "source": [
    "44. Implement a function to check if a given number is a perfect number."
   ]
  },
  {
   "cell_type": "code",
   "execution_count": 43,
   "id": "1432dcc0",
   "metadata": {},
   "outputs": [
    {
     "name": "stdout",
     "output_type": "stream",
     "text": [
      "28 is a perfect number.\n"
     ]
    }
   ],
   "source": [
    "def is_perfect_number(num):\n",
    "    if num <= 0:\n",
    "        return False\n",
    "\n",
    "    divisors = [1]  # List to store the divisors of the number\n",
    "\n",
    "    # Find divisors of the number\n",
    "    for i in range(2, int(num**0.5) + 1):\n",
    "        if num % i == 0:\n",
    "            divisors.append(i)\n",
    "            if i != num // i:\n",
    "                divisors.append(num // i)\n",
    "\n",
    "    # Check if the sum of divisors equals the number\n",
    "    return sum(divisors) == num\n",
    "\n",
    "number = 28\n",
    "if is_perfect_number(number):\n",
    "    print(f\"{number} is a perfect number.\")\n",
    "else:\n",
    "    print(f\"{number} is not a perfect number.\")\n",
    "\n"
   ]
  },
  {
   "cell_type": "markdown",
   "id": "66a31096",
   "metadata": {},
   "source": [
    "45. Write a Python program to remove all duplicates from a string"
   ]
  },
  {
   "cell_type": "code",
   "execution_count": 45,
   "id": "ec5cc427",
   "metadata": {},
   "outputs": [
    {
     "name": "stdout",
     "output_type": "stream",
     "text": [
      "Helo, wrd!\n"
     ]
    }
   ],
   "source": [
    "def remove_duplicates(string):\n",
    "    seen = set()\n",
    "    result = []\n",
    "\n",
    "    for char in string:\n",
    "        if char not in seen:\n",
    "            seen.add(char)\n",
    "            result.append(char)\n",
    "\n",
    "    return ''.join(result)\n",
    "\n",
    "string = \"Hello, world!\"\n",
    "result = remove_duplicates(string)\n",
    "print(result)\n",
    "\n"
   ]
  },
  {
   "cell_type": "markdown",
   "id": "3207a14c",
   "metadata": {},
   "source": [
    "46. Implement a function to find the first missing positive"
   ]
  },
  {
   "cell_type": "code",
   "execution_count": 46,
   "id": "2f96c513",
   "metadata": {},
   "outputs": [
    {
     "name": "stdout",
     "output_type": "stream",
     "text": [
      "First missing positive integer: 2\n"
     ]
    }
   ],
   "source": [
    "def find_first_missing_positive(nums):\n",
    "    n = len(nums)\n",
    "\n",
    "    # Step 1: Move all positive integers to the correct position\n",
    "    for i in range(n):\n",
    "        while 1 <= nums[i] <= n and nums[nums[i] - 1] != nums[i]:\n",
    "            nums[nums[i] - 1], nums[i] = nums[i], nums[nums[i] - 1]\n",
    "\n",
    "    # Step 2: Find the first missing positive integer\n",
    "    for i in range(n):\n",
    "        if nums[i] != i + 1:\n",
    "            return i + 1\n",
    "\n",
    "    return n + 1\n",
    "\n",
    "# Example usage\n",
    "numbers = [3, 4, -1, 1]\n",
    "first_missing = find_first_missing_positive(numbers)\n",
    "print(\"First missing positive integer:\", first_missing)\n"
   ]
  },
  {
   "cell_type": "code",
   "execution_count": null,
   "id": "b2ed1d74",
   "metadata": {},
   "outputs": [],
   "source": []
  }
 ],
 "metadata": {
  "kernelspec": {
   "display_name": "Python 3 (ipykernel)",
   "language": "python",
   "name": "python3"
  },
  "language_info": {
   "codemirror_mode": {
    "name": "ipython",
    "version": 3
   },
   "file_extension": ".py",
   "mimetype": "text/x-python",
   "name": "python",
   "nbconvert_exporter": "python",
   "pygments_lexer": "ipython3",
   "version": "3.10.9"
  }
 },
 "nbformat": 4,
 "nbformat_minor": 5
}
